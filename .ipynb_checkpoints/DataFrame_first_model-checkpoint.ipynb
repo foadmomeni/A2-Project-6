{
 "cells": [
  {
   "cell_type": "code",
   "execution_count": 1,
   "id": "883f2b48",
   "metadata": {},
   "outputs": [],
   "source": [
    "import pandas as pd\n",
    "import numpy as np\n",
    "import matplotlib.pyplot as plt\n",
    "%matplotlib inline  \n",
    "from sklearn.metrics import normalized_mutual_info_score"
   ]
  },
  {
   "cell_type": "code",
   "execution_count": 2,
   "id": "d965b0e5",
   "metadata": {
    "scrolled": true
   },
   "outputs": [
    {
     "data": {
      "text/html": [
       "<div>\n",
       "<style scoped>\n",
       "    .dataframe tbody tr th:only-of-type {\n",
       "        vertical-align: middle;\n",
       "    }\n",
       "\n",
       "    .dataframe tbody tr th {\n",
       "        vertical-align: top;\n",
       "    }\n",
       "\n",
       "    .dataframe thead th {\n",
       "        text-align: right;\n",
       "    }\n",
       "</style>\n",
       "<table border=\"1\" class=\"dataframe\">\n",
       "  <thead>\n",
       "    <tr style=\"text-align: right;\">\n",
       "      <th></th>\n",
       "      <th>REGION</th>\n",
       "      <th>SETTLEMENTDATE</th>\n",
       "      <th>TOTALDEMAND</th>\n",
       "      <th>PRICECATEGORY</th>\n",
       "    </tr>\n",
       "  </thead>\n",
       "  <tbody>\n",
       "    <tr>\n",
       "      <th>0</th>\n",
       "      <td>VIC1</td>\n",
       "      <td>1/01/2021 0:30</td>\n",
       "      <td>4179.21</td>\n",
       "      <td>LOW</td>\n",
       "    </tr>\n",
       "    <tr>\n",
       "      <th>1</th>\n",
       "      <td>VIC1</td>\n",
       "      <td>1/01/2021 1:00</td>\n",
       "      <td>4047.76</td>\n",
       "      <td>LOW</td>\n",
       "    </tr>\n",
       "    <tr>\n",
       "      <th>2</th>\n",
       "      <td>VIC1</td>\n",
       "      <td>1/01/2021 1:30</td>\n",
       "      <td>3934.70</td>\n",
       "      <td>LOW</td>\n",
       "    </tr>\n",
       "    <tr>\n",
       "      <th>3</th>\n",
       "      <td>VIC1</td>\n",
       "      <td>1/01/2021 2:00</td>\n",
       "      <td>3766.45</td>\n",
       "      <td>LOW</td>\n",
       "    </tr>\n",
       "    <tr>\n",
       "      <th>4</th>\n",
       "      <td>VIC1</td>\n",
       "      <td>1/01/2021 2:30</td>\n",
       "      <td>3590.37</td>\n",
       "      <td>LOW</td>\n",
       "    </tr>\n",
       "  </tbody>\n",
       "</table>\n",
       "</div>"
      ],
      "text/plain": [
       "  REGION  SETTLEMENTDATE  TOTALDEMAND PRICECATEGORY\n",
       "0   VIC1  1/01/2021 0:30      4179.21           LOW\n",
       "1   VIC1  1/01/2021 1:00      4047.76           LOW\n",
       "2   VIC1  1/01/2021 1:30      3934.70           LOW\n",
       "3   VIC1  1/01/2021 2:00      3766.45           LOW\n",
       "4   VIC1  1/01/2021 2:30      3590.37           LOW"
      ]
     },
     "execution_count": 2,
     "metadata": {},
     "output_type": "execute_result"
    }
   ],
   "source": [
    "price = pd.read_csv('price_demand_data.csv')\n",
    "price.head()"
   ]
  },
  {
   "cell_type": "markdown",
   "id": "081aa734",
   "metadata": {},
   "source": [
    "##### We need to summarize data as we don’t need to know the demands for different hours in a day. So we clean all the hours from SETTLEMENT column"
   ]
  },
  {
   "cell_type": "code",
   "execution_count": 3,
   "id": "ff3f3ba2",
   "metadata": {},
   "outputs": [],
   "source": [
    "price['SETTLEMENTDATE'] = price['SETTLEMENTDATE'].str.rstrip(':0123456789')\n",
    "price['SETTLEMENTDATE'] = price['SETTLEMENTDATE'].str.rstrip(' ')"
   ]
  },
  {
   "cell_type": "markdown",
   "id": "b65b48ae",
   "metadata": {},
   "source": [
    "##### Let's check what we have in REGION column? "
   ]
  },
  {
   "cell_type": "code",
   "execution_count": 4,
   "id": "78aef6b1",
   "metadata": {
    "scrolled": true
   },
   "outputs": [
    {
     "data": {
      "text/plain": [
       "count     11664\n",
       "unique        1\n",
       "top        VIC1\n",
       "freq      11664\n",
       "Name: REGION, dtype: object"
      ]
     },
     "execution_count": 4,
     "metadata": {},
     "output_type": "execute_result"
    }
   ],
   "source": [
    "price['REGION'].describe()"
   ]
  },
  {
   "cell_type": "markdown",
   "id": "40150a6b",
   "metadata": {},
   "source": [
    "##### All the data is for VIC1 so we drop REGION column."
   ]
  },
  {
   "cell_type": "markdown",
   "id": "76c62973",
   "metadata": {},
   "source": [
    "##### We put Date as index in both DataFrame so we can merge them together later, before doing that we rename SETTLEMENTDATE to Date."
   ]
  },
  {
   "cell_type": "code",
   "execution_count": 5,
   "id": "87538cd3",
   "metadata": {
    "scrolled": true
   },
   "outputs": [
    {
     "data": {
      "text/html": [
       "<div>\n",
       "<style scoped>\n",
       "    .dataframe tbody tr th:only-of-type {\n",
       "        vertical-align: middle;\n",
       "    }\n",
       "\n",
       "    .dataframe tbody tr th {\n",
       "        vertical-align: top;\n",
       "    }\n",
       "\n",
       "    .dataframe thead th {\n",
       "        text-align: right;\n",
       "    }\n",
       "</style>\n",
       "<table border=\"1\" class=\"dataframe\">\n",
       "  <thead>\n",
       "    <tr style=\"text-align: right;\">\n",
       "      <th></th>\n",
       "      <th>Date</th>\n",
       "      <th>TOTALDEMAND</th>\n",
       "      <th>PRICECATEGORY</th>\n",
       "    </tr>\n",
       "  </thead>\n",
       "  <tbody>\n",
       "    <tr>\n",
       "      <th>0</th>\n",
       "      <td>1/01/2021</td>\n",
       "      <td>4179.21</td>\n",
       "      <td>LOW</td>\n",
       "    </tr>\n",
       "    <tr>\n",
       "      <th>1</th>\n",
       "      <td>1/01/2021</td>\n",
       "      <td>4047.76</td>\n",
       "      <td>LOW</td>\n",
       "    </tr>\n",
       "    <tr>\n",
       "      <th>2</th>\n",
       "      <td>1/01/2021</td>\n",
       "      <td>3934.70</td>\n",
       "      <td>LOW</td>\n",
       "    </tr>\n",
       "    <tr>\n",
       "      <th>3</th>\n",
       "      <td>1/01/2021</td>\n",
       "      <td>3766.45</td>\n",
       "      <td>LOW</td>\n",
       "    </tr>\n",
       "    <tr>\n",
       "      <th>4</th>\n",
       "      <td>1/01/2021</td>\n",
       "      <td>3590.37</td>\n",
       "      <td>LOW</td>\n",
       "    </tr>\n",
       "  </tbody>\n",
       "</table>\n",
       "</div>"
      ],
      "text/plain": [
       "        Date  TOTALDEMAND PRICECATEGORY\n",
       "0  1/01/2021      4179.21           LOW\n",
       "1  1/01/2021      4047.76           LOW\n",
       "2  1/01/2021      3934.70           LOW\n",
       "3  1/01/2021      3766.45           LOW\n",
       "4  1/01/2021      3590.37           LOW"
      ]
     },
     "execution_count": 5,
     "metadata": {},
     "output_type": "execute_result"
    }
   ],
   "source": [
    "price = price.drop(['REGION'] , axis = 1)\n",
    "price = price.rename(columns={'SETTLEMENTDATE': 'Date'})\n",
    "price.set_index('Date')\n",
    "price.head()"
   ]
  },
  {
   "cell_type": "markdown",
   "id": "6ed5c40f",
   "metadata": {},
   "source": [
    "##### To find maximum daily price category, we replace 'LOW' to 1 , 'MEDIUM' to 2, 'HIGH' to 3 and 'EXTREME' to 4 to find maximum price category, then we will replace to original"
   ]
  },
  {
   "cell_type": "code",
   "execution_count": 6,
   "id": "854577c7",
   "metadata": {},
   "outputs": [],
   "source": [
    "price=price.replace(to_replace=\"LOW\",value=1)"
   ]
  },
  {
   "cell_type": "code",
   "execution_count": 7,
   "id": "d70e0aa6",
   "metadata": {},
   "outputs": [],
   "source": [
    "price=price.replace(to_replace=\"MEDIUM\",value=2)"
   ]
  },
  {
   "cell_type": "code",
   "execution_count": 8,
   "id": "f03598cc",
   "metadata": {},
   "outputs": [],
   "source": [
    "price=price.replace(to_replace=\"HIGH\",value=3)"
   ]
  },
  {
   "cell_type": "code",
   "execution_count": 9,
   "id": "b395e51a",
   "metadata": {},
   "outputs": [],
   "source": [
    "price=price.replace(to_replace=\"EXTREME\",value=4)"
   ]
  },
  {
   "cell_type": "code",
   "execution_count": 10,
   "id": "696efab1",
   "metadata": {},
   "outputs": [
    {
     "data": {
      "text/html": [
       "<div>\n",
       "<style scoped>\n",
       "    .dataframe tbody tr th:only-of-type {\n",
       "        vertical-align: middle;\n",
       "    }\n",
       "\n",
       "    .dataframe tbody tr th {\n",
       "        vertical-align: top;\n",
       "    }\n",
       "\n",
       "    .dataframe thead th {\n",
       "        text-align: right;\n",
       "    }\n",
       "</style>\n",
       "<table border=\"1\" class=\"dataframe\">\n",
       "  <thead>\n",
       "    <tr style=\"text-align: right;\">\n",
       "      <th></th>\n",
       "      <th>Date</th>\n",
       "      <th>TOTALDEMAND</th>\n",
       "      <th>PRICECATEGORY</th>\n",
       "    </tr>\n",
       "  </thead>\n",
       "  <tbody>\n",
       "    <tr>\n",
       "      <th>0</th>\n",
       "      <td>1/01/2021</td>\n",
       "      <td>4179.21</td>\n",
       "      <td>1</td>\n",
       "    </tr>\n",
       "    <tr>\n",
       "      <th>1</th>\n",
       "      <td>1/01/2021</td>\n",
       "      <td>4047.76</td>\n",
       "      <td>1</td>\n",
       "    </tr>\n",
       "    <tr>\n",
       "      <th>2</th>\n",
       "      <td>1/01/2021</td>\n",
       "      <td>3934.70</td>\n",
       "      <td>1</td>\n",
       "    </tr>\n",
       "    <tr>\n",
       "      <th>3</th>\n",
       "      <td>1/01/2021</td>\n",
       "      <td>3766.45</td>\n",
       "      <td>1</td>\n",
       "    </tr>\n",
       "    <tr>\n",
       "      <th>4</th>\n",
       "      <td>1/01/2021</td>\n",
       "      <td>3590.37</td>\n",
       "      <td>1</td>\n",
       "    </tr>\n",
       "  </tbody>\n",
       "</table>\n",
       "</div>"
      ],
      "text/plain": [
       "        Date  TOTALDEMAND  PRICECATEGORY\n",
       "0  1/01/2021      4179.21              1\n",
       "1  1/01/2021      4047.76              1\n",
       "2  1/01/2021      3934.70              1\n",
       "3  1/01/2021      3766.45              1\n",
       "4  1/01/2021      3590.37              1"
      ]
     },
     "execution_count": 10,
     "metadata": {},
     "output_type": "execute_result"
    }
   ],
   "source": [
    "price.head()"
   ]
  },
  {
   "cell_type": "markdown",
   "id": "1e0a154c",
   "metadata": {},
   "source": [
    "##### Now we groupby by date and aggregate as 'TOTALDEMAND': 'max' , 'PRICECATEGORY': 'max', we think that for total demand we should consider maximum demand not adding all the demand during everyday. We change name of TOTALDEMAND to Max_Demand"
   ]
  },
  {
   "cell_type": "code",
   "execution_count": 11,
   "id": "b9db0913",
   "metadata": {
    "scrolled": true
   },
   "outputs": [
    {
     "data": {
      "text/html": [
       "<div>\n",
       "<style scoped>\n",
       "    .dataframe tbody tr th:only-of-type {\n",
       "        vertical-align: middle;\n",
       "    }\n",
       "\n",
       "    .dataframe tbody tr th {\n",
       "        vertical-align: top;\n",
       "    }\n",
       "\n",
       "    .dataframe thead th {\n",
       "        text-align: right;\n",
       "    }\n",
       "</style>\n",
       "<table border=\"1\" class=\"dataframe\">\n",
       "  <thead>\n",
       "    <tr style=\"text-align: right;\">\n",
       "      <th></th>\n",
       "      <th>Max_Demand</th>\n",
       "      <th>PRICECATEGORY</th>\n",
       "    </tr>\n",
       "    <tr>\n",
       "      <th>Date</th>\n",
       "      <th></th>\n",
       "      <th></th>\n",
       "    </tr>\n",
       "  </thead>\n",
       "  <tbody>\n",
       "    <tr>\n",
       "      <th>1/01/2021</th>\n",
       "      <td>5019.64</td>\n",
       "      <td>1</td>\n",
       "    </tr>\n",
       "    <tr>\n",
       "      <th>1/02/2021</th>\n",
       "      <td>5228.29</td>\n",
       "      <td>2</td>\n",
       "    </tr>\n",
       "    <tr>\n",
       "      <th>1/03/2021</th>\n",
       "      <td>5225.37</td>\n",
       "      <td>1</td>\n",
       "    </tr>\n",
       "    <tr>\n",
       "      <th>1/04/2021</th>\n",
       "      <td>5807.02</td>\n",
       "      <td>2</td>\n",
       "    </tr>\n",
       "    <tr>\n",
       "      <th>1/05/2021</th>\n",
       "      <td>5261.09</td>\n",
       "      <td>2</td>\n",
       "    </tr>\n",
       "  </tbody>\n",
       "</table>\n",
       "</div>"
      ],
      "text/plain": [
       "           Max_Demand  PRICECATEGORY\n",
       "Date                                \n",
       "1/01/2021     5019.64              1\n",
       "1/02/2021     5228.29              2\n",
       "1/03/2021     5225.37              1\n",
       "1/04/2021     5807.02              2\n",
       "1/05/2021     5261.09              2"
      ]
     },
     "execution_count": 11,
     "metadata": {},
     "output_type": "execute_result"
    }
   ],
   "source": [
    "\n",
    "price1=price.groupby('Date').agg({'TOTALDEMAND': 'max' , 'PRICECATEGORY': 'max'})\n",
    "price1 = price1.rename(columns={'TOTALDEMAND': 'Max_Demand'})\n",
    "\n",
    "price1.head()"
   ]
  },
  {
   "cell_type": "markdown",
   "id": "491e9984",
   "metadata": {},
   "source": [
    "##### Now we change the values of 'PRICECATEGORY' to original ones:"
   ]
  },
  {
   "cell_type": "code",
   "execution_count": 12,
   "id": "8005421e",
   "metadata": {},
   "outputs": [],
   "source": [
    "price1=price1.replace(to_replace=1,value=\"LOW\")"
   ]
  },
  {
   "cell_type": "code",
   "execution_count": 13,
   "id": "5ac52dda",
   "metadata": {},
   "outputs": [],
   "source": [
    "price1=price1.replace(to_replace=2,value=\"MEDIUM\")"
   ]
  },
  {
   "cell_type": "code",
   "execution_count": 14,
   "id": "d44dbed8",
   "metadata": {},
   "outputs": [],
   "source": [
    "price1=price1.replace(to_replace=3,value=\"HIGH\")"
   ]
  },
  {
   "cell_type": "code",
   "execution_count": 15,
   "id": "a4f3bf27",
   "metadata": {},
   "outputs": [],
   "source": [
    "price1=price1.replace(to_replace=4,value=\"EXTREME\")"
   ]
  },
  {
   "cell_type": "code",
   "execution_count": 16,
   "id": "d2345131",
   "metadata": {
    "scrolled": true
   },
   "outputs": [
    {
     "data": {
      "text/html": [
       "<div>\n",
       "<style scoped>\n",
       "    .dataframe tbody tr th:only-of-type {\n",
       "        vertical-align: middle;\n",
       "    }\n",
       "\n",
       "    .dataframe tbody tr th {\n",
       "        vertical-align: top;\n",
       "    }\n",
       "\n",
       "    .dataframe thead th {\n",
       "        text-align: right;\n",
       "    }\n",
       "</style>\n",
       "<table border=\"1\" class=\"dataframe\">\n",
       "  <thead>\n",
       "    <tr style=\"text-align: right;\">\n",
       "      <th></th>\n",
       "      <th>Max_Demand</th>\n",
       "      <th>PRICECATEGORY</th>\n",
       "    </tr>\n",
       "    <tr>\n",
       "      <th>Date</th>\n",
       "      <th></th>\n",
       "      <th></th>\n",
       "    </tr>\n",
       "  </thead>\n",
       "  <tbody>\n",
       "    <tr>\n",
       "      <th>1/01/2021</th>\n",
       "      <td>5019.64</td>\n",
       "      <td>LOW</td>\n",
       "    </tr>\n",
       "    <tr>\n",
       "      <th>1/02/2021</th>\n",
       "      <td>5228.29</td>\n",
       "      <td>MEDIUM</td>\n",
       "    </tr>\n",
       "    <tr>\n",
       "      <th>1/03/2021</th>\n",
       "      <td>5225.37</td>\n",
       "      <td>LOW</td>\n",
       "    </tr>\n",
       "    <tr>\n",
       "      <th>1/04/2021</th>\n",
       "      <td>5807.02</td>\n",
       "      <td>MEDIUM</td>\n",
       "    </tr>\n",
       "    <tr>\n",
       "      <th>1/05/2021</th>\n",
       "      <td>5261.09</td>\n",
       "      <td>MEDIUM</td>\n",
       "    </tr>\n",
       "  </tbody>\n",
       "</table>\n",
       "</div>"
      ],
      "text/plain": [
       "           Max_Demand PRICECATEGORY\n",
       "Date                               \n",
       "1/01/2021     5019.64           LOW\n",
       "1/02/2021     5228.29        MEDIUM\n",
       "1/03/2021     5225.37           LOW\n",
       "1/04/2021     5807.02        MEDIUM\n",
       "1/05/2021     5261.09        MEDIUM"
      ]
     },
     "execution_count": 16,
     "metadata": {},
     "output_type": "execute_result"
    }
   ],
   "source": [
    "price1.head()"
   ]
  },
  {
   "cell_type": "markdown",
   "id": "6c530672",
   "metadata": {},
   "source": [
    "##### Let's have a look at second DataFrame about weather:"
   ]
  },
  {
   "cell_type": "code",
   "execution_count": 17,
   "id": "847b0732",
   "metadata": {},
   "outputs": [],
   "source": [
    "weather = pd.read_csv('weather_data.csv')"
   ]
  },
  {
   "cell_type": "code",
   "execution_count": 18,
   "id": "bbdaa56d",
   "metadata": {},
   "outputs": [
    {
     "data": {
      "text/html": [
       "<div>\n",
       "<style scoped>\n",
       "    .dataframe tbody tr th:only-of-type {\n",
       "        vertical-align: middle;\n",
       "    }\n",
       "\n",
       "    .dataframe tbody tr th {\n",
       "        vertical-align: top;\n",
       "    }\n",
       "\n",
       "    .dataframe thead th {\n",
       "        text-align: right;\n",
       "    }\n",
       "</style>\n",
       "<table border=\"1\" class=\"dataframe\">\n",
       "  <thead>\n",
       "    <tr style=\"text-align: right;\">\n",
       "      <th></th>\n",
       "      <th>Date</th>\n",
       "      <th>Minimum temperature (°C)</th>\n",
       "      <th>Maximum temperature (°C)</th>\n",
       "      <th>Rainfall (mm)</th>\n",
       "      <th>Evaporation (mm)</th>\n",
       "      <th>Sunshine (hours)</th>\n",
       "      <th>Direction of maximum wind gust</th>\n",
       "      <th>Speed of maximum wind gust (km/h)</th>\n",
       "      <th>Time of maximum wind gust</th>\n",
       "      <th>9am Temperature (°C)</th>\n",
       "      <th>...</th>\n",
       "      <th>9am cloud amount (oktas)</th>\n",
       "      <th>9am wind direction</th>\n",
       "      <th>9am wind speed (km/h)</th>\n",
       "      <th>9am MSL pressure (hPa)</th>\n",
       "      <th>3pm Temperature (°C)</th>\n",
       "      <th>3pm relative humidity (%)</th>\n",
       "      <th>3pm cloud amount (oktas)</th>\n",
       "      <th>3pm wind direction</th>\n",
       "      <th>3pm wind speed (km/h)</th>\n",
       "      <th>3pm MSL pressure (hPa)</th>\n",
       "    </tr>\n",
       "  </thead>\n",
       "  <tbody>\n",
       "    <tr>\n",
       "      <th>0</th>\n",
       "      <td>1/01/2021</td>\n",
       "      <td>15.6</td>\n",
       "      <td>29.9</td>\n",
       "      <td>0.0</td>\n",
       "      <td>2.8</td>\n",
       "      <td>9.3</td>\n",
       "      <td>NNE</td>\n",
       "      <td>31.0</td>\n",
       "      <td>13:14</td>\n",
       "      <td>19.2</td>\n",
       "      <td>...</td>\n",
       "      <td>6</td>\n",
       "      <td>N</td>\n",
       "      <td>2</td>\n",
       "      <td>1018.8</td>\n",
       "      <td>28.1</td>\n",
       "      <td>43</td>\n",
       "      <td>5.0</td>\n",
       "      <td>E</td>\n",
       "      <td>13</td>\n",
       "      <td>1015.3</td>\n",
       "    </tr>\n",
       "    <tr>\n",
       "      <th>1</th>\n",
       "      <td>2/01/2021</td>\n",
       "      <td>18.4</td>\n",
       "      <td>29.0</td>\n",
       "      <td>0.0</td>\n",
       "      <td>9.4</td>\n",
       "      <td>1.3</td>\n",
       "      <td>NNW</td>\n",
       "      <td>30.0</td>\n",
       "      <td>8:22</td>\n",
       "      <td>23.3</td>\n",
       "      <td>...</td>\n",
       "      <td>7</td>\n",
       "      <td>NNW</td>\n",
       "      <td>17</td>\n",
       "      <td>1013.3</td>\n",
       "      <td>28.7</td>\n",
       "      <td>38</td>\n",
       "      <td>7.0</td>\n",
       "      <td>SW</td>\n",
       "      <td>4</td>\n",
       "      <td>1008.5</td>\n",
       "    </tr>\n",
       "    <tr>\n",
       "      <th>2</th>\n",
       "      <td>3/01/2021</td>\n",
       "      <td>17.0</td>\n",
       "      <td>26.2</td>\n",
       "      <td>12.6</td>\n",
       "      <td>4.8</td>\n",
       "      <td>7.1</td>\n",
       "      <td>WSW</td>\n",
       "      <td>33.0</td>\n",
       "      <td>17:55</td>\n",
       "      <td>18.3</td>\n",
       "      <td>...</td>\n",
       "      <td>8</td>\n",
       "      <td>WSW</td>\n",
       "      <td>4</td>\n",
       "      <td>1007.7</td>\n",
       "      <td>23.5</td>\n",
       "      <td>59</td>\n",
       "      <td>4.0</td>\n",
       "      <td>SSW</td>\n",
       "      <td>2</td>\n",
       "      <td>1005.2</td>\n",
       "    </tr>\n",
       "    <tr>\n",
       "      <th>3</th>\n",
       "      <td>4/01/2021</td>\n",
       "      <td>16.0</td>\n",
       "      <td>18.6</td>\n",
       "      <td>2.6</td>\n",
       "      <td>3.8</td>\n",
       "      <td>0.0</td>\n",
       "      <td>SSE</td>\n",
       "      <td>41.0</td>\n",
       "      <td>16:03</td>\n",
       "      <td>16.2</td>\n",
       "      <td>...</td>\n",
       "      <td>8</td>\n",
       "      <td>SSE</td>\n",
       "      <td>11</td>\n",
       "      <td>1010.0</td>\n",
       "      <td>18.2</td>\n",
       "      <td>82</td>\n",
       "      <td>8.0</td>\n",
       "      <td>SSW</td>\n",
       "      <td>17</td>\n",
       "      <td>1011.0</td>\n",
       "    </tr>\n",
       "    <tr>\n",
       "      <th>4</th>\n",
       "      <td>5/01/2021</td>\n",
       "      <td>15.9</td>\n",
       "      <td>19.1</td>\n",
       "      <td>11.2</td>\n",
       "      <td>1.0</td>\n",
       "      <td>0.0</td>\n",
       "      <td>SSE</td>\n",
       "      <td>35.0</td>\n",
       "      <td>11:02</td>\n",
       "      <td>17.2</td>\n",
       "      <td>...</td>\n",
       "      <td>8</td>\n",
       "      <td>SSE</td>\n",
       "      <td>13</td>\n",
       "      <td>1012.5</td>\n",
       "      <td>18.2</td>\n",
       "      <td>82</td>\n",
       "      <td>8.0</td>\n",
       "      <td>SSE</td>\n",
       "      <td>19</td>\n",
       "      <td>1013.3</td>\n",
       "    </tr>\n",
       "  </tbody>\n",
       "</table>\n",
       "<p>5 rows × 21 columns</p>\n",
       "</div>"
      ],
      "text/plain": [
       "        Date  Minimum temperature (°C)  Maximum temperature (°C)  \\\n",
       "0  1/01/2021                      15.6                      29.9   \n",
       "1  2/01/2021                      18.4                      29.0   \n",
       "2  3/01/2021                      17.0                      26.2   \n",
       "3  4/01/2021                      16.0                      18.6   \n",
       "4  5/01/2021                      15.9                      19.1   \n",
       "\n",
       "   Rainfall (mm)  Evaporation (mm)  Sunshine (hours)  \\\n",
       "0            0.0               2.8               9.3   \n",
       "1            0.0               9.4               1.3   \n",
       "2           12.6               4.8               7.1   \n",
       "3            2.6               3.8               0.0   \n",
       "4           11.2               1.0               0.0   \n",
       "\n",
       "  Direction of maximum wind gust   Speed of maximum wind gust (km/h)  \\\n",
       "0                             NNE                               31.0   \n",
       "1                             NNW                               30.0   \n",
       "2                             WSW                               33.0   \n",
       "3                             SSE                               41.0   \n",
       "4                             SSE                               35.0   \n",
       "\n",
       "  Time of maximum wind gust  9am Temperature (°C)  ...  \\\n",
       "0                     13:14                  19.2  ...   \n",
       "1                      8:22                  23.3  ...   \n",
       "2                     17:55                  18.3  ...   \n",
       "3                     16:03                  16.2  ...   \n",
       "4                     11:02                  17.2  ...   \n",
       "\n",
       "   9am cloud amount (oktas)  9am wind direction 9am wind speed (km/h)  \\\n",
       "0                         6                   N                     2   \n",
       "1                         7                 NNW                    17   \n",
       "2                         8                 WSW                     4   \n",
       "3                         8                 SSE                    11   \n",
       "4                         8                 SSE                    13   \n",
       "\n",
       "  9am MSL pressure (hPa)  3pm Temperature (°C)  3pm relative humidity (%)  \\\n",
       "0                 1018.8                  28.1                         43   \n",
       "1                 1013.3                  28.7                         38   \n",
       "2                 1007.7                  23.5                         59   \n",
       "3                 1010.0                  18.2                         82   \n",
       "4                 1012.5                  18.2                         82   \n",
       "\n",
       "   3pm cloud amount (oktas)  3pm wind direction 3pm wind speed (km/h)  \\\n",
       "0                       5.0                   E                    13   \n",
       "1                       7.0                  SW                     4   \n",
       "2                       4.0                 SSW                     2   \n",
       "3                       8.0                 SSW                    17   \n",
       "4                       8.0                 SSE                    19   \n",
       "\n",
       "  3pm MSL pressure (hPa)  \n",
       "0                 1015.3  \n",
       "1                 1008.5  \n",
       "2                 1005.2  \n",
       "3                 1011.0  \n",
       "4                 1013.3  \n",
       "\n",
       "[5 rows x 21 columns]"
      ]
     },
     "execution_count": 18,
     "metadata": {},
     "output_type": "execute_result"
    }
   ],
   "source": [
    "weather.head()"
   ]
  },
  {
   "cell_type": "markdown",
   "id": "87cedd37",
   "metadata": {},
   "source": [
    "##### We calculate Average temperature and Range per day and add to DataFrame:"
   ]
  },
  {
   "cell_type": "code",
   "execution_count": 19,
   "id": "93639295",
   "metadata": {},
   "outputs": [],
   "source": [
    "weather['Average temperature (°C)'] = (weather['Minimum temperature (°C)'] + weather['Maximum temperature (°C)']) / 2\n",
    "weather['Temperature range (°C)'] = weather['Maximum temperature (°C)'] - weather['Minimum temperature (°C)']"
   ]
  },
  {
   "cell_type": "markdown",
   "id": "c0b69398",
   "metadata": {},
   "source": [
    "##### It looks some columns dosen't effect on electricity demand, so let's keep some which might be help us."
   ]
  },
  {
   "cell_type": "code",
   "execution_count": 22,
   "id": "3e523cdb",
   "metadata": {},
   "outputs": [],
   "source": [
    "weather1 = weather[['Date', 'Minimum temperature (°C)' , 'Maximum temperature (°C)', 'Average temperature (°C)' , 'Temperature range (°C)', 'Sunshine (hours)']]"
   ]
  },
  {
   "cell_type": "markdown",
   "id": "1b53f876",
   "metadata": {},
   "source": [
    "##### We put Date as index in both DataFrame so we can merge them together later."
   ]
  },
  {
   "cell_type": "code",
   "execution_count": 23,
   "id": "f4c0e542",
   "metadata": {},
   "outputs": [],
   "source": [
    "weather1 = weather1.set_index('Date')"
   ]
  },
  {
   "cell_type": "code",
   "execution_count": 24,
   "id": "8d9fad26",
   "metadata": {
    "scrolled": true
   },
   "outputs": [
    {
     "data": {
      "text/html": [
       "<div>\n",
       "<style scoped>\n",
       "    .dataframe tbody tr th:only-of-type {\n",
       "        vertical-align: middle;\n",
       "    }\n",
       "\n",
       "    .dataframe tbody tr th {\n",
       "        vertical-align: top;\n",
       "    }\n",
       "\n",
       "    .dataframe thead th {\n",
       "        text-align: right;\n",
       "    }\n",
       "</style>\n",
       "<table border=\"1\" class=\"dataframe\">\n",
       "  <thead>\n",
       "    <tr style=\"text-align: right;\">\n",
       "      <th></th>\n",
       "      <th>Minimum temperature (°C)</th>\n",
       "      <th>Maximum temperature (°C)</th>\n",
       "      <th>Average temperature (°C)</th>\n",
       "      <th>Temperature range (°C)</th>\n",
       "      <th>Sunshine (hours)</th>\n",
       "    </tr>\n",
       "    <tr>\n",
       "      <th>Date</th>\n",
       "      <th></th>\n",
       "      <th></th>\n",
       "      <th></th>\n",
       "      <th></th>\n",
       "      <th></th>\n",
       "    </tr>\n",
       "  </thead>\n",
       "  <tbody>\n",
       "    <tr>\n",
       "      <th>1/01/2021</th>\n",
       "      <td>15.6</td>\n",
       "      <td>29.9</td>\n",
       "      <td>22.75</td>\n",
       "      <td>14.3</td>\n",
       "      <td>9.3</td>\n",
       "    </tr>\n",
       "    <tr>\n",
       "      <th>2/01/2021</th>\n",
       "      <td>18.4</td>\n",
       "      <td>29.0</td>\n",
       "      <td>23.70</td>\n",
       "      <td>10.6</td>\n",
       "      <td>1.3</td>\n",
       "    </tr>\n",
       "    <tr>\n",
       "      <th>3/01/2021</th>\n",
       "      <td>17.0</td>\n",
       "      <td>26.2</td>\n",
       "      <td>21.60</td>\n",
       "      <td>9.2</td>\n",
       "      <td>7.1</td>\n",
       "    </tr>\n",
       "    <tr>\n",
       "      <th>4/01/2021</th>\n",
       "      <td>16.0</td>\n",
       "      <td>18.6</td>\n",
       "      <td>17.30</td>\n",
       "      <td>2.6</td>\n",
       "      <td>0.0</td>\n",
       "    </tr>\n",
       "    <tr>\n",
       "      <th>5/01/2021</th>\n",
       "      <td>15.9</td>\n",
       "      <td>19.1</td>\n",
       "      <td>17.50</td>\n",
       "      <td>3.2</td>\n",
       "      <td>0.0</td>\n",
       "    </tr>\n",
       "  </tbody>\n",
       "</table>\n",
       "</div>"
      ],
      "text/plain": [
       "           Minimum temperature (°C)  Maximum temperature (°C)  \\\n",
       "Date                                                            \n",
       "1/01/2021                      15.6                      29.9   \n",
       "2/01/2021                      18.4                      29.0   \n",
       "3/01/2021                      17.0                      26.2   \n",
       "4/01/2021                      16.0                      18.6   \n",
       "5/01/2021                      15.9                      19.1   \n",
       "\n",
       "           Average temperature (°C)  Temperature range (°C)  Sunshine (hours)  \n",
       "Date                                                                           \n",
       "1/01/2021                     22.75                    14.3               9.3  \n",
       "2/01/2021                     23.70                    10.6               1.3  \n",
       "3/01/2021                     21.60                     9.2               7.1  \n",
       "4/01/2021                     17.30                     2.6               0.0  \n",
       "5/01/2021                     17.50                     3.2               0.0  "
      ]
     },
     "execution_count": 24,
     "metadata": {},
     "output_type": "execute_result"
    }
   ],
   "source": [
    "weather1.head()"
   ]
  },
  {
   "cell_type": "code",
   "execution_count": null,
   "id": "9de57071",
   "metadata": {
    "scrolled": true
   },
   "outputs": [],
   "source": [
    "result = pd.merge(weather1,price1, left_index=True,right_index=True, how='inner')"
   ]
  },
  {
   "cell_type": "code",
   "execution_count": null,
   "id": "a06172e1",
   "metadata": {
    "scrolled": true
   },
   "outputs": [],
   "source": [
    "result"
   ]
  },
  {
   "cell_type": "markdown",
   "id": "1dfbc44a",
   "metadata": {},
   "source": [
    "##### we can't calculate  mutual information if there are some NaN in DataFrame, so let's drop all data with NaN value."
   ]
  },
  {
   "cell_type": "code",
   "execution_count": null,
   "id": "40485552",
   "metadata": {},
   "outputs": [],
   "source": [
    "result=result.dropna(axis=0)"
   ]
  },
  {
   "cell_type": "code",
   "execution_count": null,
   "id": "0c81f1ec",
   "metadata": {},
   "outputs": [],
   "source": [
    "result"
   ]
  },
  {
   "cell_type": "markdown",
   "id": "28d11c7f",
   "metadata": {},
   "source": [
    "##### There is just one row which had NaN so it won't effect much in our model. "
   ]
  },
  {
   "cell_type": "code",
   "execution_count": null,
   "id": "dc815e45",
   "metadata": {},
   "outputs": [],
   "source": [
    "plt.scatter(result['Average temperature (°C)'],result['Max_Demand'])\n",
    "plt.show()\n",
    "\n",
    "print(\"Pearson r is \",result['Average temperature (°C)'].corr(result['Max_Demand']))"
   ]
  },
  {
   "cell_type": "code",
   "execution_count": null,
   "id": "e7b21c3e",
   "metadata": {},
   "outputs": [],
   "source": []
  },
  {
   "cell_type": "code",
   "execution_count": null,
   "id": "ce034f04",
   "metadata": {},
   "outputs": [],
   "source": [
    "result['Max_Demand_binned'] = pd.cut(result['Max_Demand'], bins = 4)"
   ]
  },
  {
   "cell_type": "code",
   "execution_count": null,
   "id": "bdd2e4a0",
   "metadata": {},
   "outputs": [],
   "source": [
    "result['Average temperature (°C)_binned'] = pd.cut(result['Average temperature (°C)'], bins = 4)"
   ]
  },
  {
   "cell_type": "code",
   "execution_count": null,
   "id": "64365cbf",
   "metadata": {},
   "outputs": [],
   "source": [
    "result.head()"
   ]
  },
  {
   "cell_type": "code",
   "execution_count": null,
   "id": "ae3a4a0a",
   "metadata": {},
   "outputs": [],
   "source": [
    "normalized_mutual_info_score(result['Max_Demand_binned'], result['Average temperature (°C)_binned'], average_method='min')"
   ]
  },
  {
   "cell_type": "code",
   "execution_count": null,
   "id": "de4444eb",
   "metadata": {},
   "outputs": [],
   "source": [
    "result1 = result.loc[result['Average temperature (°C)'] <= 18]\n",
    "result1.head()"
   ]
  },
  {
   "cell_type": "code",
   "execution_count": null,
   "id": "056e8a82",
   "metadata": {},
   "outputs": [],
   "source": [
    "plt.scatter(result1['Average temperature (°C)'],result1['Max_Demand'])\n",
    "plt.show()\n",
    "\n",
    "print(\"Pearson r is \",result1['Average temperature (°C)'].corr(result1['Max_Demand']))"
   ]
  },
  {
   "cell_type": "code",
   "execution_count": null,
   "id": "18bd7da3",
   "metadata": {
    "scrolled": true
   },
   "outputs": [],
   "source": [
    "result1['Max_Demand_binned'] = pd.cut(result1['Max_Demand'], bins = 4)"
   ]
  },
  {
   "cell_type": "code",
   "execution_count": null,
   "id": "5b8b126b",
   "metadata": {},
   "outputs": [],
   "source": [
    "result1['Average temperature (°C)_binned'] = pd.cut(result1['Average temperature (°C)'], bins = 4)"
   ]
  },
  {
   "cell_type": "code",
   "execution_count": null,
   "id": "03783242",
   "metadata": {},
   "outputs": [],
   "source": [
    "result1.head()"
   ]
  },
  {
   "cell_type": "code",
   "execution_count": null,
   "id": "71bff871",
   "metadata": {},
   "outputs": [],
   "source": [
    "normalized_mutual_info_score(result1['Max_Demand_binned'], result1['Average temperature (°C)_binned'], average_method='min')"
   ]
  },
  {
   "cell_type": "code",
   "execution_count": null,
   "id": "1993af18",
   "metadata": {},
   "outputs": [],
   "source": [
    "result2 = result.loc[result['Average temperature (°C)'] >= 18]\n",
    "result2.head()"
   ]
  },
  {
   "cell_type": "code",
   "execution_count": null,
   "id": "9035f945",
   "metadata": {},
   "outputs": [],
   "source": [
    "plt.scatter(result2['Average temperature (°C)'],result2['Max_Demand'])\n",
    "plt.show()\n",
    "\n",
    "print(\"Pearson r is \",result2['Average temperature (°C)'].corr(result2['Max_Demand']))"
   ]
  },
  {
   "cell_type": "code",
   "execution_count": null,
   "id": "380ef983",
   "metadata": {},
   "outputs": [],
   "source": [
    "result2['Max_Demand_binned'] = pd.cut(result2['Max_Demand'], bins = 4)"
   ]
  },
  {
   "cell_type": "code",
   "execution_count": null,
   "id": "42e314a1",
   "metadata": {},
   "outputs": [],
   "source": [
    "result2['Average temperature (°C)_binned'] = pd.cut(result2['Average temperature (°C)'], bins = 4)"
   ]
  },
  {
   "cell_type": "code",
   "execution_count": null,
   "id": "6fffe9f5",
   "metadata": {},
   "outputs": [],
   "source": [
    "result2.head()"
   ]
  },
  {
   "cell_type": "code",
   "execution_count": null,
   "id": "ebb4bf08",
   "metadata": {},
   "outputs": [],
   "source": [
    "normalized_mutual_info_score(result2['Max_Demand_binned'], result2['Average temperature (°C)_binned'], average_method='min')"
   ]
  },
  {
   "cell_type": "code",
   "execution_count": null,
   "id": "aaa0e84a",
   "metadata": {},
   "outputs": [],
   "source": [
    "plt.scatter(result2['Sunshine (hours)'],result2['Max_Demand'])\n",
    "plt.show()\n",
    "\n",
    "print(\"Pearson r is \",result2['Sunshine (hours)'].corr(result2['Max_Demand']))"
   ]
  },
  {
   "cell_type": "code",
   "execution_count": null,
   "id": "dd488cb2",
   "metadata": {},
   "outputs": [],
   "source": [
    "result2['Sunshine (hours)_binned'] = pd.cut(result2['Sunshine (hours)'], bins = 4)"
   ]
  },
  {
   "cell_type": "code",
   "execution_count": null,
   "id": "d3deb02f",
   "metadata": {},
   "outputs": [],
   "source": [
    "normalized_mutual_info_score(result2['Max_Demand_binned'], result2['Sunshine (hours)_binned'], average_method='min')"
   ]
  },
  {
   "cell_type": "code",
   "execution_count": null,
   "id": "e57ec1f0",
   "metadata": {},
   "outputs": [],
   "source": [
    "normalized_mutual_info_score(result['PRICECATEGORY'], result['Average temperature (°C)_binned'], average_method='min')"
   ]
  },
  {
   "cell_type": "code",
   "execution_count": null,
   "id": "466cdc53",
   "metadata": {},
   "outputs": [],
   "source": [
    "normalized_mutual_info_score(result1['PRICECATEGORY'], result1['Average temperature (°C)_binned'], average_method='min')"
   ]
  },
  {
   "cell_type": "code",
   "execution_count": null,
   "id": "6a47ab83",
   "metadata": {},
   "outputs": [],
   "source": [
    "normalized_mutual_info_score(result2['PRICECATEGORY'], result2['Average temperature (°C)_binned'], average_method='min')"
   ]
  },
  {
   "cell_type": "code",
   "execution_count": null,
   "id": "0109d3cf",
   "metadata": {},
   "outputs": [],
   "source": [
    "result['Maximum temperature (°C)_binned'] = pd.cut(result['Maximum temperature (°C)'], bins = 4)"
   ]
  },
  {
   "cell_type": "code",
   "execution_count": null,
   "id": "eb3bc14a",
   "metadata": {},
   "outputs": [],
   "source": [
    "normalized_mutual_info_score(result['PRICECATEGORY'], result['Maximum temperature (°C)_binned'], average_method='min')"
   ]
  },
  {
   "cell_type": "code",
   "execution_count": null,
   "id": "35a9677f",
   "metadata": {},
   "outputs": [],
   "source": [
    "result1['Maximum temperature (°C)_binned'] = pd.cut(result1['Maximum temperature (°C)'], bins = 4)"
   ]
  },
  {
   "cell_type": "code",
   "execution_count": null,
   "id": "a61b0a95",
   "metadata": {
    "scrolled": true
   },
   "outputs": [],
   "source": [
    "normalized_mutual_info_score(result1['PRICECATEGORY'], result1['Maximum temperature (°C)_binned'], average_method='min')"
   ]
  },
  {
   "cell_type": "code",
   "execution_count": null,
   "id": "e7d0ad0a",
   "metadata": {},
   "outputs": [],
   "source": [
    "result2['Maximum temperature (°C)_binned'] = pd.cut(result2['Maximum temperature (°C)'], bins = 4)"
   ]
  },
  {
   "cell_type": "code",
   "execution_count": null,
   "id": "b5d747af",
   "metadata": {},
   "outputs": [],
   "source": [
    "normalized_mutual_info_score(result2['PRICECATEGORY'], result2['Maximum temperature (°C)_binned'], average_method='min')"
   ]
  },
  {
   "cell_type": "code",
   "execution_count": null,
   "id": "7633c4da",
   "metadata": {},
   "outputs": [],
   "source": [
    "result['Miniimum temperature (°C)_binned'] = pd.cut(result['Minimum temperature (°C)'], bins = 4)"
   ]
  },
  {
   "cell_type": "code",
   "execution_count": null,
   "id": "09e207f8",
   "metadata": {},
   "outputs": [],
   "source": [
    "normalized_mutual_info_score(result['PRICECATEGORY'], result['Maximum temperature (°C)_binned'], average_method='min')"
   ]
  },
  {
   "cell_type": "code",
   "execution_count": null,
   "id": "5f9ef7e3",
   "metadata": {},
   "outputs": [],
   "source": [
    "result1['Minimum temperature (°C)_binned'] = pd.cut(result1['Minimum temperature (°C)'], bins = 4)"
   ]
  },
  {
   "cell_type": "code",
   "execution_count": null,
   "id": "ea5802d6",
   "metadata": {},
   "outputs": [],
   "source": [
    "normalized_mutual_info_score(result1['PRICECATEGORY'], result1['Minimum temperature (°C)_binned'], average_method='min')"
   ]
  },
  {
   "cell_type": "code",
   "execution_count": null,
   "id": "1db2a84b",
   "metadata": {},
   "outputs": [],
   "source": [
    "result2['Miniimum temperature (°C)_binned'] = pd.cut(result2['Minimum temperature (°C)'], bins = 4)"
   ]
  },
  {
   "cell_type": "code",
   "execution_count": null,
   "id": "fbb2561d",
   "metadata": {},
   "outputs": [],
   "source": [
    "normalized_mutual_info_score(result2['PRICECATEGORY'], result2['Maximum temperature (°C)_binned'], average_method='min')"
   ]
  },
  {
   "cell_type": "code",
   "execution_count": null,
   "id": "2a9e8bae",
   "metadata": {},
   "outputs": [],
   "source": [
    "normalized_mutual_info_score(result['PRICECATEGORY'], result['Max_Demand_binned'], average_method='min')"
   ]
  }
 ],
 "metadata": {
  "kernelspec": {
   "display_name": "Python 3 (ipykernel)",
   "language": "python",
   "name": "python3"
  },
  "language_info": {
   "codemirror_mode": {
    "name": "ipython",
    "version": 3
   },
   "file_extension": ".py",
   "mimetype": "text/x-python",
   "name": "python",
   "nbconvert_exporter": "python",
   "pygments_lexer": "ipython3",
   "version": "3.9.13"
  }
 },
 "nbformat": 4,
 "nbformat_minor": 5
}
