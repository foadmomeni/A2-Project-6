{
 "cells": [
  {
   "cell_type": "code",
   "execution_count": 1,
   "id": "883f2b48",
   "metadata": {},
   "outputs": [],
   "source": [
    "import pandas as pd\n",
    "import numpy as np\n",
    "import matplotlib.pyplot as plt\n",
    "%matplotlib inline  \n",
    "from sklearn.metrics import normalized_mutual_info_score"
   ]
  },
  {
   "cell_type": "code",
   "execution_count": 2,
   "id": "d965b0e5",
   "metadata": {
    "scrolled": true
   },
   "outputs": [
    {
     "data": {
      "text/html": [
       "<div>\n",
       "<style scoped>\n",
       "    .dataframe tbody tr th:only-of-type {\n",
       "        vertical-align: middle;\n",
       "    }\n",
       "\n",
       "    .dataframe tbody tr th {\n",
       "        vertical-align: top;\n",
       "    }\n",
       "\n",
       "    .dataframe thead th {\n",
       "        text-align: right;\n",
       "    }\n",
       "</style>\n",
       "<table border=\"1\" class=\"dataframe\">\n",
       "  <thead>\n",
       "    <tr style=\"text-align: right;\">\n",
       "      <th></th>\n",
       "      <th>REGION</th>\n",
       "      <th>SETTLEMENTDATE</th>\n",
       "      <th>TOTALDEMAND</th>\n",
       "      <th>PRICECATEGORY</th>\n",
       "    </tr>\n",
       "  </thead>\n",
       "  <tbody>\n",
       "    <tr>\n",
       "      <th>0</th>\n",
       "      <td>VIC1</td>\n",
       "      <td>1/01/2021 0:30</td>\n",
       "      <td>4179.21</td>\n",
       "      <td>LOW</td>\n",
       "    </tr>\n",
       "    <tr>\n",
       "      <th>1</th>\n",
       "      <td>VIC1</td>\n",
       "      <td>1/01/2021 1:00</td>\n",
       "      <td>4047.76</td>\n",
       "      <td>LOW</td>\n",
       "    </tr>\n",
       "    <tr>\n",
       "      <th>2</th>\n",
       "      <td>VIC1</td>\n",
       "      <td>1/01/2021 1:30</td>\n",
       "      <td>3934.70</td>\n",
       "      <td>LOW</td>\n",
       "    </tr>\n",
       "    <tr>\n",
       "      <th>3</th>\n",
       "      <td>VIC1</td>\n",
       "      <td>1/01/2021 2:00</td>\n",
       "      <td>3766.45</td>\n",
       "      <td>LOW</td>\n",
       "    </tr>\n",
       "    <tr>\n",
       "      <th>4</th>\n",
       "      <td>VIC1</td>\n",
       "      <td>1/01/2021 2:30</td>\n",
       "      <td>3590.37</td>\n",
       "      <td>LOW</td>\n",
       "    </tr>\n",
       "  </tbody>\n",
       "</table>\n",
       "</div>"
      ],
      "text/plain": [
       "  REGION  SETTLEMENTDATE  TOTALDEMAND PRICECATEGORY\n",
       "0   VIC1  1/01/2021 0:30      4179.21           LOW\n",
       "1   VIC1  1/01/2021 1:00      4047.76           LOW\n",
       "2   VIC1  1/01/2021 1:30      3934.70           LOW\n",
       "3   VIC1  1/01/2021 2:00      3766.45           LOW\n",
       "4   VIC1  1/01/2021 2:30      3590.37           LOW"
      ]
     },
     "execution_count": 2,
     "metadata": {},
     "output_type": "execute_result"
    }
   ],
   "source": [
    "price = pd.read_csv('price_demand_data.csv')\n",
    "price.head()"
   ]
  },
  {
   "cell_type": "markdown",
   "id": "081aa734",
   "metadata": {},
   "source": [
    "##### We need to summarize data as we don’t need to know the demands for different hours in a day. So we clean all the hours from SETTLEMENT column"
   ]
  },
  {
   "cell_type": "code",
   "execution_count": 3,
   "id": "ff3f3ba2",
   "metadata": {},
   "outputs": [],
   "source": [
    "price['SETTLEMENTDATE'] = price['SETTLEMENTDATE'].str.rstrip(':0123456789')\n",
    "price['SETTLEMENTDATE'] = price['SETTLEMENTDATE'].str.rstrip(' ')"
   ]
  },
  {
   "cell_type": "markdown",
   "id": "b65b48ae",
   "metadata": {},
   "source": [
    "##### Let's check what we have in REGION column? "
   ]
  },
  {
   "cell_type": "code",
   "execution_count": 4,
   "id": "78aef6b1",
   "metadata": {
    "scrolled": true
   },
   "outputs": [
    {
     "data": {
      "text/plain": [
       "count     11664\n",
       "unique        1\n",
       "top        VIC1\n",
       "freq      11664\n",
       "Name: REGION, dtype: object"
      ]
     },
     "execution_count": 4,
     "metadata": {},
     "output_type": "execute_result"
    }
   ],
   "source": [
    "price['REGION'].describe()"
   ]
  },
  {
   "cell_type": "markdown",
   "id": "40150a6b",
   "metadata": {},
   "source": [
    "##### All the data is for VIC1 so we drop REGION column."
   ]
  },
  {
   "cell_type": "markdown",
   "id": "76c62973",
   "metadata": {},
   "source": [
    "##### We put Date as index in both DataFrame so we can merge them together later, before doing that we rename SETTLEMENTDATE to Date."
   ]
  },
  {
   "cell_type": "code",
   "execution_count": 5,
   "id": "87538cd3",
   "metadata": {
    "scrolled": true
   },
   "outputs": [
    {
     "data": {
      "text/html": [
       "<div>\n",
       "<style scoped>\n",
       "    .dataframe tbody tr th:only-of-type {\n",
       "        vertical-align: middle;\n",
       "    }\n",
       "\n",
       "    .dataframe tbody tr th {\n",
       "        vertical-align: top;\n",
       "    }\n",
       "\n",
       "    .dataframe thead th {\n",
       "        text-align: right;\n",
       "    }\n",
       "</style>\n",
       "<table border=\"1\" class=\"dataframe\">\n",
       "  <thead>\n",
       "    <tr style=\"text-align: right;\">\n",
       "      <th></th>\n",
       "      <th>Date</th>\n",
       "      <th>TOTALDEMAND</th>\n",
       "      <th>PRICECATEGORY</th>\n",
       "    </tr>\n",
       "  </thead>\n",
       "  <tbody>\n",
       "    <tr>\n",
       "      <th>0</th>\n",
       "      <td>1/01/2021</td>\n",
       "      <td>4179.21</td>\n",
       "      <td>LOW</td>\n",
       "    </tr>\n",
       "    <tr>\n",
       "      <th>1</th>\n",
       "      <td>1/01/2021</td>\n",
       "      <td>4047.76</td>\n",
       "      <td>LOW</td>\n",
       "    </tr>\n",
       "    <tr>\n",
       "      <th>2</th>\n",
       "      <td>1/01/2021</td>\n",
       "      <td>3934.70</td>\n",
       "      <td>LOW</td>\n",
       "    </tr>\n",
       "    <tr>\n",
       "      <th>3</th>\n",
       "      <td>1/01/2021</td>\n",
       "      <td>3766.45</td>\n",
       "      <td>LOW</td>\n",
       "    </tr>\n",
       "    <tr>\n",
       "      <th>4</th>\n",
       "      <td>1/01/2021</td>\n",
       "      <td>3590.37</td>\n",
       "      <td>LOW</td>\n",
       "    </tr>\n",
       "  </tbody>\n",
       "</table>\n",
       "</div>"
      ],
      "text/plain": [
       "        Date  TOTALDEMAND PRICECATEGORY\n",
       "0  1/01/2021      4179.21           LOW\n",
       "1  1/01/2021      4047.76           LOW\n",
       "2  1/01/2021      3934.70           LOW\n",
       "3  1/01/2021      3766.45           LOW\n",
       "4  1/01/2021      3590.37           LOW"
      ]
     },
     "execution_count": 5,
     "metadata": {},
     "output_type": "execute_result"
    }
   ],
   "source": [
    "price = price.drop(['REGION'] , axis = 1)\n",
    "price = price.rename(columns={'SETTLEMENTDATE': 'Date'})\n",
    "price.set_index('Date')\n",
    "price.head()"
   ]
  },
  {
   "cell_type": "markdown",
   "id": "6ed5c40f",
   "metadata": {},
   "source": [
    "##### To find maximum daily price category, we replace 'LOW' to 1 , 'MEDIUM' to 2, 'HIGH' to 3 and 'EXTREME' to 4 to find maximum price category, then we will replace to original"
   ]
  },
  {
   "cell_type": "code",
   "execution_count": 6,
   "id": "854577c7",
   "metadata": {},
   "outputs": [],
   "source": [
    "price=price.replace(to_replace=\"LOW\",value=1)"
   ]
  },
  {
   "cell_type": "code",
   "execution_count": 7,
   "id": "d70e0aa6",
   "metadata": {},
   "outputs": [],
   "source": [
    "price=price.replace(to_replace=\"MEDIUM\",value=2)"
   ]
  },
  {
   "cell_type": "code",
   "execution_count": 8,
   "id": "f03598cc",
   "metadata": {},
   "outputs": [],
   "source": [
    "price=price.replace(to_replace=\"HIGH\",value=3)"
   ]
  },
  {
   "cell_type": "code",
   "execution_count": 9,
   "id": "b395e51a",
   "metadata": {},
   "outputs": [],
   "source": [
    "price=price.replace(to_replace=\"EXTREME\",value=4)"
   ]
  },
  {
   "cell_type": "code",
   "execution_count": 10,
   "id": "696efab1",
   "metadata": {},
   "outputs": [
    {
     "data": {
      "text/html": [
       "<div>\n",
       "<style scoped>\n",
       "    .dataframe tbody tr th:only-of-type {\n",
       "        vertical-align: middle;\n",
       "    }\n",
       "\n",
       "    .dataframe tbody tr th {\n",
       "        vertical-align: top;\n",
       "    }\n",
       "\n",
       "    .dataframe thead th {\n",
       "        text-align: right;\n",
       "    }\n",
       "</style>\n",
       "<table border=\"1\" class=\"dataframe\">\n",
       "  <thead>\n",
       "    <tr style=\"text-align: right;\">\n",
       "      <th></th>\n",
       "      <th>Date</th>\n",
       "      <th>TOTALDEMAND</th>\n",
       "      <th>PRICECATEGORY</th>\n",
       "    </tr>\n",
       "  </thead>\n",
       "  <tbody>\n",
       "    <tr>\n",
       "      <th>0</th>\n",
       "      <td>1/01/2021</td>\n",
       "      <td>4179.21</td>\n",
       "      <td>1</td>\n",
       "    </tr>\n",
       "    <tr>\n",
       "      <th>1</th>\n",
       "      <td>1/01/2021</td>\n",
       "      <td>4047.76</td>\n",
       "      <td>1</td>\n",
       "    </tr>\n",
       "    <tr>\n",
       "      <th>2</th>\n",
       "      <td>1/01/2021</td>\n",
       "      <td>3934.70</td>\n",
       "      <td>1</td>\n",
       "    </tr>\n",
       "    <tr>\n",
       "      <th>3</th>\n",
       "      <td>1/01/2021</td>\n",
       "      <td>3766.45</td>\n",
       "      <td>1</td>\n",
       "    </tr>\n",
       "    <tr>\n",
       "      <th>4</th>\n",
       "      <td>1/01/2021</td>\n",
       "      <td>3590.37</td>\n",
       "      <td>1</td>\n",
       "    </tr>\n",
       "  </tbody>\n",
       "</table>\n",
       "</div>"
      ],
      "text/plain": [
       "        Date  TOTALDEMAND  PRICECATEGORY\n",
       "0  1/01/2021      4179.21              1\n",
       "1  1/01/2021      4047.76              1\n",
       "2  1/01/2021      3934.70              1\n",
       "3  1/01/2021      3766.45              1\n",
       "4  1/01/2021      3590.37              1"
      ]
     },
     "execution_count": 10,
     "metadata": {},
     "output_type": "execute_result"
    }
   ],
   "source": [
    "price.head()"
   ]
  },
  {
   "cell_type": "markdown",
   "id": "1e0a154c",
   "metadata": {},
   "source": [
    "##### Now we groupby by date and aggregate as 'TOTALDEMAND': 'max' , 'PRICECATEGORY': 'max', we think that for total demand we should consider maximum demand not adding all the demand during everyday. We change name of TOTALDEMAND to Max_Demand"
   ]
  },
  {
   "cell_type": "code",
   "execution_count": 11,
   "id": "b9db0913",
   "metadata": {
    "scrolled": true
   },
   "outputs": [
    {
     "data": {
      "text/html": [
       "<div>\n",
       "<style scoped>\n",
       "    .dataframe tbody tr th:only-of-type {\n",
       "        vertical-align: middle;\n",
       "    }\n",
       "\n",
       "    .dataframe tbody tr th {\n",
       "        vertical-align: top;\n",
       "    }\n",
       "\n",
       "    .dataframe thead th {\n",
       "        text-align: right;\n",
       "    }\n",
       "</style>\n",
       "<table border=\"1\" class=\"dataframe\">\n",
       "  <thead>\n",
       "    <tr style=\"text-align: right;\">\n",
       "      <th></th>\n",
       "      <th>Max_Demand</th>\n",
       "      <th>PRICECATEGORY</th>\n",
       "    </tr>\n",
       "    <tr>\n",
       "      <th>Date</th>\n",
       "      <th></th>\n",
       "      <th></th>\n",
       "    </tr>\n",
       "  </thead>\n",
       "  <tbody>\n",
       "    <tr>\n",
       "      <th>1/01/2021</th>\n",
       "      <td>5019.64</td>\n",
       "      <td>1</td>\n",
       "    </tr>\n",
       "    <tr>\n",
       "      <th>1/02/2021</th>\n",
       "      <td>5228.29</td>\n",
       "      <td>2</td>\n",
       "    </tr>\n",
       "    <tr>\n",
       "      <th>1/03/2021</th>\n",
       "      <td>5225.37</td>\n",
       "      <td>1</td>\n",
       "    </tr>\n",
       "    <tr>\n",
       "      <th>1/04/2021</th>\n",
       "      <td>5807.02</td>\n",
       "      <td>2</td>\n",
       "    </tr>\n",
       "    <tr>\n",
       "      <th>1/05/2021</th>\n",
       "      <td>5261.09</td>\n",
       "      <td>2</td>\n",
       "    </tr>\n",
       "  </tbody>\n",
       "</table>\n",
       "</div>"
      ],
      "text/plain": [
       "           Max_Demand  PRICECATEGORY\n",
       "Date                                \n",
       "1/01/2021     5019.64              1\n",
       "1/02/2021     5228.29              2\n",
       "1/03/2021     5225.37              1\n",
       "1/04/2021     5807.02              2\n",
       "1/05/2021     5261.09              2"
      ]
     },
     "execution_count": 11,
     "metadata": {},
     "output_type": "execute_result"
    }
   ],
   "source": [
    "\n",
    "price1=price.groupby('Date').agg({'TOTALDEMAND': 'max' , 'PRICECATEGORY': 'max'})\n",
    "price1 = price1.rename(columns={'TOTALDEMAND': 'Max_Demand'})\n",
    "\n",
    "price1.head()"
   ]
  },
  {
   "cell_type": "markdown",
   "id": "491e9984",
   "metadata": {},
   "source": [
    "##### Now we change the values of 'PRICECATEGORY' to original ones:"
   ]
  },
  {
   "cell_type": "code",
   "execution_count": 12,
   "id": "8005421e",
   "metadata": {},
   "outputs": [],
   "source": [
    "price1=price1.replace(to_replace=1,value=\"LOW\")"
   ]
  },
  {
   "cell_type": "code",
   "execution_count": 13,
   "id": "5ac52dda",
   "metadata": {},
   "outputs": [],
   "source": [
    "price1=price1.replace(to_replace=2,value=\"MEDIUM\")"
   ]
  },
  {
   "cell_type": "code",
   "execution_count": 14,
   "id": "d44dbed8",
   "metadata": {},
   "outputs": [],
   "source": [
    "price1=price1.replace(to_replace=3,value=\"HIGH\")"
   ]
  },
  {
   "cell_type": "code",
   "execution_count": 15,
   "id": "a4f3bf27",
   "metadata": {},
   "outputs": [],
   "source": [
    "price1=price1.replace(to_replace=4,value=\"EXTREME\")"
   ]
  },
  {
   "cell_type": "code",
   "execution_count": 16,
   "id": "d2345131",
   "metadata": {
    "scrolled": true
   },
   "outputs": [
    {
     "data": {
      "text/html": [
       "<div>\n",
       "<style scoped>\n",
       "    .dataframe tbody tr th:only-of-type {\n",
       "        vertical-align: middle;\n",
       "    }\n",
       "\n",
       "    .dataframe tbody tr th {\n",
       "        vertical-align: top;\n",
       "    }\n",
       "\n",
       "    .dataframe thead th {\n",
       "        text-align: right;\n",
       "    }\n",
       "</style>\n",
       "<table border=\"1\" class=\"dataframe\">\n",
       "  <thead>\n",
       "    <tr style=\"text-align: right;\">\n",
       "      <th></th>\n",
       "      <th>Max_Demand</th>\n",
       "      <th>PRICECATEGORY</th>\n",
       "    </tr>\n",
       "    <tr>\n",
       "      <th>Date</th>\n",
       "      <th></th>\n",
       "      <th></th>\n",
       "    </tr>\n",
       "  </thead>\n",
       "  <tbody>\n",
       "    <tr>\n",
       "      <th>1/01/2021</th>\n",
       "      <td>5019.64</td>\n",
       "      <td>LOW</td>\n",
       "    </tr>\n",
       "    <tr>\n",
       "      <th>1/02/2021</th>\n",
       "      <td>5228.29</td>\n",
       "      <td>MEDIUM</td>\n",
       "    </tr>\n",
       "    <tr>\n",
       "      <th>1/03/2021</th>\n",
       "      <td>5225.37</td>\n",
       "      <td>LOW</td>\n",
       "    </tr>\n",
       "    <tr>\n",
       "      <th>1/04/2021</th>\n",
       "      <td>5807.02</td>\n",
       "      <td>MEDIUM</td>\n",
       "    </tr>\n",
       "    <tr>\n",
       "      <th>1/05/2021</th>\n",
       "      <td>5261.09</td>\n",
       "      <td>MEDIUM</td>\n",
       "    </tr>\n",
       "  </tbody>\n",
       "</table>\n",
       "</div>"
      ],
      "text/plain": [
       "           Max_Demand PRICECATEGORY\n",
       "Date                               \n",
       "1/01/2021     5019.64           LOW\n",
       "1/02/2021     5228.29        MEDIUM\n",
       "1/03/2021     5225.37           LOW\n",
       "1/04/2021     5807.02        MEDIUM\n",
       "1/05/2021     5261.09        MEDIUM"
      ]
     },
     "execution_count": 16,
     "metadata": {},
     "output_type": "execute_result"
    }
   ],
   "source": [
    "price1.head()"
   ]
  },
  {
   "cell_type": "markdown",
   "id": "6c530672",
   "metadata": {},
   "source": [
    "##### Let's have a look at second DataFrame about weather:"
   ]
  },
  {
   "cell_type": "code",
   "execution_count": 17,
   "id": "847b0732",
   "metadata": {},
   "outputs": [],
   "source": [
    "weather = pd.read_csv('weather_data.csv')"
   ]
  },
  {
   "cell_type": "code",
   "execution_count": 18,
   "id": "bbdaa56d",
   "metadata": {},
   "outputs": [
    {
     "data": {
      "text/html": [
       "<div>\n",
       "<style scoped>\n",
       "    .dataframe tbody tr th:only-of-type {\n",
       "        vertical-align: middle;\n",
       "    }\n",
       "\n",
       "    .dataframe tbody tr th {\n",
       "        vertical-align: top;\n",
       "    }\n",
       "\n",
       "    .dataframe thead th {\n",
       "        text-align: right;\n",
       "    }\n",
       "</style>\n",
       "<table border=\"1\" class=\"dataframe\">\n",
       "  <thead>\n",
       "    <tr style=\"text-align: right;\">\n",
       "      <th></th>\n",
       "      <th>Date</th>\n",
       "      <th>Minimum temperature (°C)</th>\n",
       "      <th>Maximum temperature (°C)</th>\n",
       "      <th>Rainfall (mm)</th>\n",
       "      <th>Evaporation (mm)</th>\n",
       "      <th>Sunshine (hours)</th>\n",
       "      <th>Direction of maximum wind gust</th>\n",
       "      <th>Speed of maximum wind gust (km/h)</th>\n",
       "      <th>Time of maximum wind gust</th>\n",
       "      <th>9am Temperature (°C)</th>\n",
       "      <th>...</th>\n",
       "      <th>9am cloud amount (oktas)</th>\n",
       "      <th>9am wind direction</th>\n",
       "      <th>9am wind speed (km/h)</th>\n",
       "      <th>9am MSL pressure (hPa)</th>\n",
       "      <th>3pm Temperature (°C)</th>\n",
       "      <th>3pm relative humidity (%)</th>\n",
       "      <th>3pm cloud amount (oktas)</th>\n",
       "      <th>3pm wind direction</th>\n",
       "      <th>3pm wind speed (km/h)</th>\n",
       "      <th>3pm MSL pressure (hPa)</th>\n",
       "    </tr>\n",
       "  </thead>\n",
       "  <tbody>\n",
       "    <tr>\n",
       "      <th>0</th>\n",
       "      <td>1/01/2021</td>\n",
       "      <td>15.6</td>\n",
       "      <td>29.9</td>\n",
       "      <td>0.0</td>\n",
       "      <td>2.8</td>\n",
       "      <td>9.3</td>\n",
       "      <td>NNE</td>\n",
       "      <td>31.0</td>\n",
       "      <td>13:14</td>\n",
       "      <td>19.2</td>\n",
       "      <td>...</td>\n",
       "      <td>6</td>\n",
       "      <td>N</td>\n",
       "      <td>2</td>\n",
       "      <td>1018.8</td>\n",
       "      <td>28.1</td>\n",
       "      <td>43</td>\n",
       "      <td>5.0</td>\n",
       "      <td>E</td>\n",
       "      <td>13</td>\n",
       "      <td>1015.3</td>\n",
       "    </tr>\n",
       "    <tr>\n",
       "      <th>1</th>\n",
       "      <td>2/01/2021</td>\n",
       "      <td>18.4</td>\n",
       "      <td>29.0</td>\n",
       "      <td>0.0</td>\n",
       "      <td>9.4</td>\n",
       "      <td>1.3</td>\n",
       "      <td>NNW</td>\n",
       "      <td>30.0</td>\n",
       "      <td>8:22</td>\n",
       "      <td>23.3</td>\n",
       "      <td>...</td>\n",
       "      <td>7</td>\n",
       "      <td>NNW</td>\n",
       "      <td>17</td>\n",
       "      <td>1013.3</td>\n",
       "      <td>28.7</td>\n",
       "      <td>38</td>\n",
       "      <td>7.0</td>\n",
       "      <td>SW</td>\n",
       "      <td>4</td>\n",
       "      <td>1008.5</td>\n",
       "    </tr>\n",
       "    <tr>\n",
       "      <th>2</th>\n",
       "      <td>3/01/2021</td>\n",
       "      <td>17.0</td>\n",
       "      <td>26.2</td>\n",
       "      <td>12.6</td>\n",
       "      <td>4.8</td>\n",
       "      <td>7.1</td>\n",
       "      <td>WSW</td>\n",
       "      <td>33.0</td>\n",
       "      <td>17:55</td>\n",
       "      <td>18.3</td>\n",
       "      <td>...</td>\n",
       "      <td>8</td>\n",
       "      <td>WSW</td>\n",
       "      <td>4</td>\n",
       "      <td>1007.7</td>\n",
       "      <td>23.5</td>\n",
       "      <td>59</td>\n",
       "      <td>4.0</td>\n",
       "      <td>SSW</td>\n",
       "      <td>2</td>\n",
       "      <td>1005.2</td>\n",
       "    </tr>\n",
       "    <tr>\n",
       "      <th>3</th>\n",
       "      <td>4/01/2021</td>\n",
       "      <td>16.0</td>\n",
       "      <td>18.6</td>\n",
       "      <td>2.6</td>\n",
       "      <td>3.8</td>\n",
       "      <td>0.0</td>\n",
       "      <td>SSE</td>\n",
       "      <td>41.0</td>\n",
       "      <td>16:03</td>\n",
       "      <td>16.2</td>\n",
       "      <td>...</td>\n",
       "      <td>8</td>\n",
       "      <td>SSE</td>\n",
       "      <td>11</td>\n",
       "      <td>1010.0</td>\n",
       "      <td>18.2</td>\n",
       "      <td>82</td>\n",
       "      <td>8.0</td>\n",
       "      <td>SSW</td>\n",
       "      <td>17</td>\n",
       "      <td>1011.0</td>\n",
       "    </tr>\n",
       "    <tr>\n",
       "      <th>4</th>\n",
       "      <td>5/01/2021</td>\n",
       "      <td>15.9</td>\n",
       "      <td>19.1</td>\n",
       "      <td>11.2</td>\n",
       "      <td>1.0</td>\n",
       "      <td>0.0</td>\n",
       "      <td>SSE</td>\n",
       "      <td>35.0</td>\n",
       "      <td>11:02</td>\n",
       "      <td>17.2</td>\n",
       "      <td>...</td>\n",
       "      <td>8</td>\n",
       "      <td>SSE</td>\n",
       "      <td>13</td>\n",
       "      <td>1012.5</td>\n",
       "      <td>18.2</td>\n",
       "      <td>82</td>\n",
       "      <td>8.0</td>\n",
       "      <td>SSE</td>\n",
       "      <td>19</td>\n",
       "      <td>1013.3</td>\n",
       "    </tr>\n",
       "  </tbody>\n",
       "</table>\n",
       "<p>5 rows × 21 columns</p>\n",
       "</div>"
      ],
      "text/plain": [
       "        Date  Minimum temperature (°C)  Maximum temperature (°C)  \\\n",
       "0  1/01/2021                      15.6                      29.9   \n",
       "1  2/01/2021                      18.4                      29.0   \n",
       "2  3/01/2021                      17.0                      26.2   \n",
       "3  4/01/2021                      16.0                      18.6   \n",
       "4  5/01/2021                      15.9                      19.1   \n",
       "\n",
       "   Rainfall (mm)  Evaporation (mm)  Sunshine (hours)  \\\n",
       "0            0.0               2.8               9.3   \n",
       "1            0.0               9.4               1.3   \n",
       "2           12.6               4.8               7.1   \n",
       "3            2.6               3.8               0.0   \n",
       "4           11.2               1.0               0.0   \n",
       "\n",
       "  Direction of maximum wind gust   Speed of maximum wind gust (km/h)  \\\n",
       "0                             NNE                               31.0   \n",
       "1                             NNW                               30.0   \n",
       "2                             WSW                               33.0   \n",
       "3                             SSE                               41.0   \n",
       "4                             SSE                               35.0   \n",
       "\n",
       "  Time of maximum wind gust  9am Temperature (°C)  ...  \\\n",
       "0                     13:14                  19.2  ...   \n",
       "1                      8:22                  23.3  ...   \n",
       "2                     17:55                  18.3  ...   \n",
       "3                     16:03                  16.2  ...   \n",
       "4                     11:02                  17.2  ...   \n",
       "\n",
       "   9am cloud amount (oktas)  9am wind direction 9am wind speed (km/h)  \\\n",
       "0                         6                   N                     2   \n",
       "1                         7                 NNW                    17   \n",
       "2                         8                 WSW                     4   \n",
       "3                         8                 SSE                    11   \n",
       "4                         8                 SSE                    13   \n",
       "\n",
       "  9am MSL pressure (hPa)  3pm Temperature (°C)  3pm relative humidity (%)  \\\n",
       "0                 1018.8                  28.1                         43   \n",
       "1                 1013.3                  28.7                         38   \n",
       "2                 1007.7                  23.5                         59   \n",
       "3                 1010.0                  18.2                         82   \n",
       "4                 1012.5                  18.2                         82   \n",
       "\n",
       "   3pm cloud amount (oktas)  3pm wind direction 3pm wind speed (km/h)  \\\n",
       "0                       5.0                   E                    13   \n",
       "1                       7.0                  SW                     4   \n",
       "2                       4.0                 SSW                     2   \n",
       "3                       8.0                 SSW                    17   \n",
       "4                       8.0                 SSE                    19   \n",
       "\n",
       "  3pm MSL pressure (hPa)  \n",
       "0                 1015.3  \n",
       "1                 1008.5  \n",
       "2                 1005.2  \n",
       "3                 1011.0  \n",
       "4                 1013.3  \n",
       "\n",
       "[5 rows x 21 columns]"
      ]
     },
     "execution_count": 18,
     "metadata": {},
     "output_type": "execute_result"
    }
   ],
   "source": [
    "weather.head()"
   ]
  },
  {
   "cell_type": "markdown",
   "id": "87cedd37",
   "metadata": {},
   "source": [
    "##### We calculate Average temperature and Range per day and add to DataFrame:"
   ]
  },
  {
   "cell_type": "code",
   "execution_count": 19,
   "id": "93639295",
   "metadata": {},
   "outputs": [],
   "source": [
    "weather['Average temperature (°C)'] = (weather['Minimum temperature (°C)'] + weather['Maximum temperature (°C)']) / 2\n",
    "weather['Temperature range (°C)'] = weather['Maximum temperature (°C)'] - weather['Minimum temperature (°C)']"
   ]
  },
  {
   "cell_type": "markdown",
   "id": "c0b69398",
   "metadata": {},
   "source": [
    "##### It looks some columns dosen't effect on electricity demand, so let's keep some which might be help us."
   ]
  },
  {
   "cell_type": "code",
   "execution_count": 20,
   "id": "3e523cdb",
   "metadata": {},
   "outputs": [],
   "source": [
    "weather1 = weather[['Date', 'Minimum temperature (°C)' , 'Maximum temperature (°C)', 'Average temperature (°C)' , 'Temperature range (°C)', 'Sunshine (hours)']]"
   ]
  },
  {
   "cell_type": "markdown",
   "id": "1b53f876",
   "metadata": {},
   "source": [
    "##### We put Date as index in both DataFrame so we can merge them together later."
   ]
  },
  {
   "cell_type": "code",
   "execution_count": 21,
   "id": "f4c0e542",
   "metadata": {},
   "outputs": [],
   "source": [
    "weather1 = weather1.set_index('Date')"
   ]
  },
  {
   "cell_type": "code",
   "execution_count": 22,
   "id": "8d9fad26",
   "metadata": {
    "scrolled": true
   },
   "outputs": [
    {
     "data": {
      "text/html": [
       "<div>\n",
       "<style scoped>\n",
       "    .dataframe tbody tr th:only-of-type {\n",
       "        vertical-align: middle;\n",
       "    }\n",
       "\n",
       "    .dataframe tbody tr th {\n",
       "        vertical-align: top;\n",
       "    }\n",
       "\n",
       "    .dataframe thead th {\n",
       "        text-align: right;\n",
       "    }\n",
       "</style>\n",
       "<table border=\"1\" class=\"dataframe\">\n",
       "  <thead>\n",
       "    <tr style=\"text-align: right;\">\n",
       "      <th></th>\n",
       "      <th>Minimum temperature (°C)</th>\n",
       "      <th>Maximum temperature (°C)</th>\n",
       "      <th>Average temperature (°C)</th>\n",
       "      <th>Temperature range (°C)</th>\n",
       "      <th>Sunshine (hours)</th>\n",
       "    </tr>\n",
       "    <tr>\n",
       "      <th>Date</th>\n",
       "      <th></th>\n",
       "      <th></th>\n",
       "      <th></th>\n",
       "      <th></th>\n",
       "      <th></th>\n",
       "    </tr>\n",
       "  </thead>\n",
       "  <tbody>\n",
       "    <tr>\n",
       "      <th>1/01/2021</th>\n",
       "      <td>15.6</td>\n",
       "      <td>29.9</td>\n",
       "      <td>22.75</td>\n",
       "      <td>14.3</td>\n",
       "      <td>9.3</td>\n",
       "    </tr>\n",
       "    <tr>\n",
       "      <th>2/01/2021</th>\n",
       "      <td>18.4</td>\n",
       "      <td>29.0</td>\n",
       "      <td>23.70</td>\n",
       "      <td>10.6</td>\n",
       "      <td>1.3</td>\n",
       "    </tr>\n",
       "    <tr>\n",
       "      <th>3/01/2021</th>\n",
       "      <td>17.0</td>\n",
       "      <td>26.2</td>\n",
       "      <td>21.60</td>\n",
       "      <td>9.2</td>\n",
       "      <td>7.1</td>\n",
       "    </tr>\n",
       "    <tr>\n",
       "      <th>4/01/2021</th>\n",
       "      <td>16.0</td>\n",
       "      <td>18.6</td>\n",
       "      <td>17.30</td>\n",
       "      <td>2.6</td>\n",
       "      <td>0.0</td>\n",
       "    </tr>\n",
       "    <tr>\n",
       "      <th>5/01/2021</th>\n",
       "      <td>15.9</td>\n",
       "      <td>19.1</td>\n",
       "      <td>17.50</td>\n",
       "      <td>3.2</td>\n",
       "      <td>0.0</td>\n",
       "    </tr>\n",
       "  </tbody>\n",
       "</table>\n",
       "</div>"
      ],
      "text/plain": [
       "           Minimum temperature (°C)  Maximum temperature (°C)  \\\n",
       "Date                                                            \n",
       "1/01/2021                      15.6                      29.9   \n",
       "2/01/2021                      18.4                      29.0   \n",
       "3/01/2021                      17.0                      26.2   \n",
       "4/01/2021                      16.0                      18.6   \n",
       "5/01/2021                      15.9                      19.1   \n",
       "\n",
       "           Average temperature (°C)  Temperature range (°C)  Sunshine (hours)  \n",
       "Date                                                                           \n",
       "1/01/2021                     22.75                    14.3               9.3  \n",
       "2/01/2021                     23.70                    10.6               1.3  \n",
       "3/01/2021                     21.60                     9.2               7.1  \n",
       "4/01/2021                     17.30                     2.6               0.0  \n",
       "5/01/2021                     17.50                     3.2               0.0  "
      ]
     },
     "execution_count": 22,
     "metadata": {},
     "output_type": "execute_result"
    }
   ],
   "source": [
    "weather1.head()"
   ]
  },
  {
   "cell_type": "code",
   "execution_count": 34,
   "id": "9de57071",
   "metadata": {
    "scrolled": true
   },
   "outputs": [],
   "source": [
    "result = pd.merge(weather1,price1, left_index=True,right_index=True, how='inner')"
   ]
  },
  {
   "cell_type": "code",
   "execution_count": 35,
   "id": "a06172e1",
   "metadata": {
    "scrolled": true
   },
   "outputs": [
    {
     "data": {
      "text/html": [
       "<div>\n",
       "<style scoped>\n",
       "    .dataframe tbody tr th:only-of-type {\n",
       "        vertical-align: middle;\n",
       "    }\n",
       "\n",
       "    .dataframe tbody tr th {\n",
       "        vertical-align: top;\n",
       "    }\n",
       "\n",
       "    .dataframe thead th {\n",
       "        text-align: right;\n",
       "    }\n",
       "</style>\n",
       "<table border=\"1\" class=\"dataframe\">\n",
       "  <thead>\n",
       "    <tr style=\"text-align: right;\">\n",
       "      <th></th>\n",
       "      <th>Minimum temperature (°C)</th>\n",
       "      <th>Maximum temperature (°C)</th>\n",
       "      <th>Average temperature (°C)</th>\n",
       "      <th>Temperature range (°C)</th>\n",
       "      <th>Sunshine (hours)</th>\n",
       "      <th>Max_Demand</th>\n",
       "      <th>PRICECATEGORY</th>\n",
       "    </tr>\n",
       "    <tr>\n",
       "      <th>Date</th>\n",
       "      <th></th>\n",
       "      <th></th>\n",
       "      <th></th>\n",
       "      <th></th>\n",
       "      <th></th>\n",
       "      <th></th>\n",
       "      <th></th>\n",
       "    </tr>\n",
       "  </thead>\n",
       "  <tbody>\n",
       "    <tr>\n",
       "      <th>1/01/2021</th>\n",
       "      <td>15.6</td>\n",
       "      <td>29.9</td>\n",
       "      <td>22.75</td>\n",
       "      <td>14.3</td>\n",
       "      <td>9.3</td>\n",
       "      <td>5019.64</td>\n",
       "      <td>LOW</td>\n",
       "    </tr>\n",
       "    <tr>\n",
       "      <th>2/01/2021</th>\n",
       "      <td>18.4</td>\n",
       "      <td>29.0</td>\n",
       "      <td>23.70</td>\n",
       "      <td>10.6</td>\n",
       "      <td>1.3</td>\n",
       "      <td>4964.35</td>\n",
       "      <td>LOW</td>\n",
       "    </tr>\n",
       "    <tr>\n",
       "      <th>3/01/2021</th>\n",
       "      <td>17.0</td>\n",
       "      <td>26.2</td>\n",
       "      <td>21.60</td>\n",
       "      <td>9.2</td>\n",
       "      <td>7.1</td>\n",
       "      <td>4503.31</td>\n",
       "      <td>LOW</td>\n",
       "    </tr>\n",
       "    <tr>\n",
       "      <th>4/01/2021</th>\n",
       "      <td>16.0</td>\n",
       "      <td>18.6</td>\n",
       "      <td>17.30</td>\n",
       "      <td>2.6</td>\n",
       "      <td>0.0</td>\n",
       "      <td>4764.18</td>\n",
       "      <td>LOW</td>\n",
       "    </tr>\n",
       "    <tr>\n",
       "      <th>5/01/2021</th>\n",
       "      <td>15.9</td>\n",
       "      <td>19.1</td>\n",
       "      <td>17.50</td>\n",
       "      <td>3.2</td>\n",
       "      <td>0.0</td>\n",
       "      <td>4800.64</td>\n",
       "      <td>LOW</td>\n",
       "    </tr>\n",
       "    <tr>\n",
       "      <th>...</th>\n",
       "      <td>...</td>\n",
       "      <td>...</td>\n",
       "      <td>...</td>\n",
       "      <td>...</td>\n",
       "      <td>...</td>\n",
       "      <td>...</td>\n",
       "      <td>...</td>\n",
       "    </tr>\n",
       "    <tr>\n",
       "      <th>27/08/2021</th>\n",
       "      <td>4.6</td>\n",
       "      <td>13.6</td>\n",
       "      <td>9.10</td>\n",
       "      <td>9.0</td>\n",
       "      <td>3.8</td>\n",
       "      <td>6769.89</td>\n",
       "      <td>EXTREME</td>\n",
       "    </tr>\n",
       "    <tr>\n",
       "      <th>28/08/2021</th>\n",
       "      <td>5.3</td>\n",
       "      <td>17.8</td>\n",
       "      <td>11.55</td>\n",
       "      <td>12.5</td>\n",
       "      <td>9.6</td>\n",
       "      <td>5716.32</td>\n",
       "      <td>MEDIUM</td>\n",
       "    </tr>\n",
       "    <tr>\n",
       "      <th>29/08/2021</th>\n",
       "      <td>9.1</td>\n",
       "      <td>16.2</td>\n",
       "      <td>12.65</td>\n",
       "      <td>7.1</td>\n",
       "      <td>4.3</td>\n",
       "      <td>6227.89</td>\n",
       "      <td>EXTREME</td>\n",
       "    </tr>\n",
       "    <tr>\n",
       "      <th>30/08/2021</th>\n",
       "      <td>6.4</td>\n",
       "      <td>17.6</td>\n",
       "      <td>12.00</td>\n",
       "      <td>11.2</td>\n",
       "      <td>7.4</td>\n",
       "      <td>6072.91</td>\n",
       "      <td>HIGH</td>\n",
       "    </tr>\n",
       "    <tr>\n",
       "      <th>31/08/2021</th>\n",
       "      <td>11.0</td>\n",
       "      <td>20.1</td>\n",
       "      <td>15.55</td>\n",
       "      <td>9.1</td>\n",
       "      <td>3.6</td>\n",
       "      <td>5779.56</td>\n",
       "      <td>MEDIUM</td>\n",
       "    </tr>\n",
       "  </tbody>\n",
       "</table>\n",
       "<p>243 rows × 7 columns</p>\n",
       "</div>"
      ],
      "text/plain": [
       "            Minimum temperature (°C)  Maximum temperature (°C)  \\\n",
       "Date                                                             \n",
       "1/01/2021                       15.6                      29.9   \n",
       "2/01/2021                       18.4                      29.0   \n",
       "3/01/2021                       17.0                      26.2   \n",
       "4/01/2021                       16.0                      18.6   \n",
       "5/01/2021                       15.9                      19.1   \n",
       "...                              ...                       ...   \n",
       "27/08/2021                       4.6                      13.6   \n",
       "28/08/2021                       5.3                      17.8   \n",
       "29/08/2021                       9.1                      16.2   \n",
       "30/08/2021                       6.4                      17.6   \n",
       "31/08/2021                      11.0                      20.1   \n",
       "\n",
       "            Average temperature (°C)  Temperature range (°C)  \\\n",
       "Date                                                           \n",
       "1/01/2021                      22.75                    14.3   \n",
       "2/01/2021                      23.70                    10.6   \n",
       "3/01/2021                      21.60                     9.2   \n",
       "4/01/2021                      17.30                     2.6   \n",
       "5/01/2021                      17.50                     3.2   \n",
       "...                              ...                     ...   \n",
       "27/08/2021                      9.10                     9.0   \n",
       "28/08/2021                     11.55                    12.5   \n",
       "29/08/2021                     12.65                     7.1   \n",
       "30/08/2021                     12.00                    11.2   \n",
       "31/08/2021                     15.55                     9.1   \n",
       "\n",
       "            Sunshine (hours)  Max_Demand PRICECATEGORY  \n",
       "Date                                                    \n",
       "1/01/2021                9.3     5019.64           LOW  \n",
       "2/01/2021                1.3     4964.35           LOW  \n",
       "3/01/2021                7.1     4503.31           LOW  \n",
       "4/01/2021                0.0     4764.18           LOW  \n",
       "5/01/2021                0.0     4800.64           LOW  \n",
       "...                      ...         ...           ...  \n",
       "27/08/2021               3.8     6769.89       EXTREME  \n",
       "28/08/2021               9.6     5716.32        MEDIUM  \n",
       "29/08/2021               4.3     6227.89       EXTREME  \n",
       "30/08/2021               7.4     6072.91          HIGH  \n",
       "31/08/2021               3.6     5779.56        MEDIUM  \n",
       "\n",
       "[243 rows x 7 columns]"
      ]
     },
     "execution_count": 35,
     "metadata": {},
     "output_type": "execute_result"
    }
   ],
   "source": [
    "result"
   ]
  },
  {
   "cell_type": "markdown",
   "id": "1dfbc44a",
   "metadata": {},
   "source": [
    "##### we can't calculate  mutual information if there are some NaN in DataFrame, so let's drop all data with NaN value."
   ]
  },
  {
   "cell_type": "code",
   "execution_count": 36,
   "id": "40485552",
   "metadata": {},
   "outputs": [],
   "source": [
    "result=result.dropna(axis=0)"
   ]
  },
  {
   "cell_type": "code",
   "execution_count": 37,
   "id": "0c81f1ec",
   "metadata": {},
   "outputs": [
    {
     "data": {
      "text/html": [
       "<div>\n",
       "<style scoped>\n",
       "    .dataframe tbody tr th:only-of-type {\n",
       "        vertical-align: middle;\n",
       "    }\n",
       "\n",
       "    .dataframe tbody tr th {\n",
       "        vertical-align: top;\n",
       "    }\n",
       "\n",
       "    .dataframe thead th {\n",
       "        text-align: right;\n",
       "    }\n",
       "</style>\n",
       "<table border=\"1\" class=\"dataframe\">\n",
       "  <thead>\n",
       "    <tr style=\"text-align: right;\">\n",
       "      <th></th>\n",
       "      <th>Minimum temperature (°C)</th>\n",
       "      <th>Maximum temperature (°C)</th>\n",
       "      <th>Average temperature (°C)</th>\n",
       "      <th>Temperature range (°C)</th>\n",
       "      <th>Sunshine (hours)</th>\n",
       "      <th>Max_Demand</th>\n",
       "      <th>PRICECATEGORY</th>\n",
       "    </tr>\n",
       "    <tr>\n",
       "      <th>Date</th>\n",
       "      <th></th>\n",
       "      <th></th>\n",
       "      <th></th>\n",
       "      <th></th>\n",
       "      <th></th>\n",
       "      <th></th>\n",
       "      <th></th>\n",
       "    </tr>\n",
       "  </thead>\n",
       "  <tbody>\n",
       "    <tr>\n",
       "      <th>1/01/2021</th>\n",
       "      <td>15.6</td>\n",
       "      <td>29.9</td>\n",
       "      <td>22.75</td>\n",
       "      <td>14.3</td>\n",
       "      <td>9.3</td>\n",
       "      <td>5019.64</td>\n",
       "      <td>LOW</td>\n",
       "    </tr>\n",
       "    <tr>\n",
       "      <th>2/01/2021</th>\n",
       "      <td>18.4</td>\n",
       "      <td>29.0</td>\n",
       "      <td>23.70</td>\n",
       "      <td>10.6</td>\n",
       "      <td>1.3</td>\n",
       "      <td>4964.35</td>\n",
       "      <td>LOW</td>\n",
       "    </tr>\n",
       "    <tr>\n",
       "      <th>3/01/2021</th>\n",
       "      <td>17.0</td>\n",
       "      <td>26.2</td>\n",
       "      <td>21.60</td>\n",
       "      <td>9.2</td>\n",
       "      <td>7.1</td>\n",
       "      <td>4503.31</td>\n",
       "      <td>LOW</td>\n",
       "    </tr>\n",
       "    <tr>\n",
       "      <th>4/01/2021</th>\n",
       "      <td>16.0</td>\n",
       "      <td>18.6</td>\n",
       "      <td>17.30</td>\n",
       "      <td>2.6</td>\n",
       "      <td>0.0</td>\n",
       "      <td>4764.18</td>\n",
       "      <td>LOW</td>\n",
       "    </tr>\n",
       "    <tr>\n",
       "      <th>5/01/2021</th>\n",
       "      <td>15.9</td>\n",
       "      <td>19.1</td>\n",
       "      <td>17.50</td>\n",
       "      <td>3.2</td>\n",
       "      <td>0.0</td>\n",
       "      <td>4800.64</td>\n",
       "      <td>LOW</td>\n",
       "    </tr>\n",
       "    <tr>\n",
       "      <th>...</th>\n",
       "      <td>...</td>\n",
       "      <td>...</td>\n",
       "      <td>...</td>\n",
       "      <td>...</td>\n",
       "      <td>...</td>\n",
       "      <td>...</td>\n",
       "      <td>...</td>\n",
       "    </tr>\n",
       "    <tr>\n",
       "      <th>27/08/2021</th>\n",
       "      <td>4.6</td>\n",
       "      <td>13.6</td>\n",
       "      <td>9.10</td>\n",
       "      <td>9.0</td>\n",
       "      <td>3.8</td>\n",
       "      <td>6769.89</td>\n",
       "      <td>EXTREME</td>\n",
       "    </tr>\n",
       "    <tr>\n",
       "      <th>28/08/2021</th>\n",
       "      <td>5.3</td>\n",
       "      <td>17.8</td>\n",
       "      <td>11.55</td>\n",
       "      <td>12.5</td>\n",
       "      <td>9.6</td>\n",
       "      <td>5716.32</td>\n",
       "      <td>MEDIUM</td>\n",
       "    </tr>\n",
       "    <tr>\n",
       "      <th>29/08/2021</th>\n",
       "      <td>9.1</td>\n",
       "      <td>16.2</td>\n",
       "      <td>12.65</td>\n",
       "      <td>7.1</td>\n",
       "      <td>4.3</td>\n",
       "      <td>6227.89</td>\n",
       "      <td>EXTREME</td>\n",
       "    </tr>\n",
       "    <tr>\n",
       "      <th>30/08/2021</th>\n",
       "      <td>6.4</td>\n",
       "      <td>17.6</td>\n",
       "      <td>12.00</td>\n",
       "      <td>11.2</td>\n",
       "      <td>7.4</td>\n",
       "      <td>6072.91</td>\n",
       "      <td>HIGH</td>\n",
       "    </tr>\n",
       "    <tr>\n",
       "      <th>31/08/2021</th>\n",
       "      <td>11.0</td>\n",
       "      <td>20.1</td>\n",
       "      <td>15.55</td>\n",
       "      <td>9.1</td>\n",
       "      <td>3.6</td>\n",
       "      <td>5779.56</td>\n",
       "      <td>MEDIUM</td>\n",
       "    </tr>\n",
       "  </tbody>\n",
       "</table>\n",
       "<p>242 rows × 7 columns</p>\n",
       "</div>"
      ],
      "text/plain": [
       "            Minimum temperature (°C)  Maximum temperature (°C)  \\\n",
       "Date                                                             \n",
       "1/01/2021                       15.6                      29.9   \n",
       "2/01/2021                       18.4                      29.0   \n",
       "3/01/2021                       17.0                      26.2   \n",
       "4/01/2021                       16.0                      18.6   \n",
       "5/01/2021                       15.9                      19.1   \n",
       "...                              ...                       ...   \n",
       "27/08/2021                       4.6                      13.6   \n",
       "28/08/2021                       5.3                      17.8   \n",
       "29/08/2021                       9.1                      16.2   \n",
       "30/08/2021                       6.4                      17.6   \n",
       "31/08/2021                      11.0                      20.1   \n",
       "\n",
       "            Average temperature (°C)  Temperature range (°C)  \\\n",
       "Date                                                           \n",
       "1/01/2021                      22.75                    14.3   \n",
       "2/01/2021                      23.70                    10.6   \n",
       "3/01/2021                      21.60                     9.2   \n",
       "4/01/2021                      17.30                     2.6   \n",
       "5/01/2021                      17.50                     3.2   \n",
       "...                              ...                     ...   \n",
       "27/08/2021                      9.10                     9.0   \n",
       "28/08/2021                     11.55                    12.5   \n",
       "29/08/2021                     12.65                     7.1   \n",
       "30/08/2021                     12.00                    11.2   \n",
       "31/08/2021                     15.55                     9.1   \n",
       "\n",
       "            Sunshine (hours)  Max_Demand PRICECATEGORY  \n",
       "Date                                                    \n",
       "1/01/2021                9.3     5019.64           LOW  \n",
       "2/01/2021                1.3     4964.35           LOW  \n",
       "3/01/2021                7.1     4503.31           LOW  \n",
       "4/01/2021                0.0     4764.18           LOW  \n",
       "5/01/2021                0.0     4800.64           LOW  \n",
       "...                      ...         ...           ...  \n",
       "27/08/2021               3.8     6769.89       EXTREME  \n",
       "28/08/2021               9.6     5716.32        MEDIUM  \n",
       "29/08/2021               4.3     6227.89       EXTREME  \n",
       "30/08/2021               7.4     6072.91          HIGH  \n",
       "31/08/2021               3.6     5779.56        MEDIUM  \n",
       "\n",
       "[242 rows x 7 columns]"
      ]
     },
     "execution_count": 37,
     "metadata": {},
     "output_type": "execute_result"
    }
   ],
   "source": [
    "result"
   ]
  },
  {
   "cell_type": "markdown",
   "id": "28d11c7f",
   "metadata": {},
   "source": [
    "##### There is just one row which had NaN so it won't effect much in our model. "
   ]
  },
  {
   "cell_type": "code",
   "execution_count": 38,
   "id": "dc815e45",
   "metadata": {},
   "outputs": [
    {
     "data": {
      "image/png": "[encoded data removed]",
      "text/plain": [
       "<Figure size 640x480 with 1 Axes>"
      ]
     },
     "metadata": {},
     "output_type": "display_data"
    },
    {
     "name": "stdout",
     "output_type": "stream",
     "text": [
      "Pearson r is  -0.40602421364010743\n"
     ]
    }
   ],
   "source": [
    "plt.scatter(result['Average temperature (°C)'],result['Max_Demand'])\n",
    "plt.show()\n",
    "\n",
    "print(\"Pearson r is \",result['Average temperature (°C)'].corr(result['Max_Demand']))"
   ]
  },
  {
   "cell_type": "code",
   "execution_count": null,
   "id": "e7b21c3e",
   "metadata": {},
   "outputs": [],
   "source": []
  },
  {
   "cell_type": "code",
   "execution_count": 39,
   "id": "ce034f04",
   "metadata": {},
   "outputs": [
    {
     "name": "stderr",
     "output_type": "stream",
     "text": [
      "C:\\Users\\foadm\\AppData\\Local\\Temp\\ipykernel_6088\\3155527172.py:1: SettingWithCopyWarning: \n",
      "A value is trying to be set on a copy of a slice from a DataFrame.\n",
      "Try using .loc[row_indexer,col_indexer] = value instead\n",
      "\n",
      "See the caveats in the documentation: https://pandas.pydata.org/pandas-docs/stable/user_guide/indexing.html#returning-a-view-versus-a-copy\n",
      "  result['Max_Demand_binned'] = pd.cut(result['Max_Demand'], bins = 4)\n"
     ]
    }
   ],
   "source": [
    "result['Max_Demand_binned'] = pd.cut(result['Max_Demand'], bins = 4)"
   ]
  },
  {
   "cell_type": "code",
   "execution_count": 40,
   "id": "bdd2e4a0",
   "metadata": {},
   "outputs": [
    {
     "name": "stderr",
     "output_type": "stream",
     "text": [
      "C:\\Users\\foadm\\AppData\\Local\\Temp\\ipykernel_6088\\303039089.py:1: SettingWithCopyWarning: \n",
      "A value is trying to be set on a copy of a slice from a DataFrame.\n",
      "Try using .loc[row_indexer,col_indexer] = value instead\n",
      "\n",
      "See the caveats in the documentation: https://pandas.pydata.org/pandas-docs/stable/user_guide/indexing.html#returning-a-view-versus-a-copy\n",
      "  result['Average temperature (°C)_binned'] = pd.cut(result['Average temperature (°C)'], bins = 4)\n"
     ]
    }
   ],
   "source": [
    "result['Average temperature (°C)_binned'] = pd.cut(result['Average temperature (°C)'], bins = 4)"
   ]
  },
  {
   "cell_type": "code",
   "execution_count": 43,
   "id": "64365cbf",
   "metadata": {},
   "outputs": [
    {
     "data": {
      "text/html": [
       "<div>\n",
       "<style scoped>\n",
       "    .dataframe tbody tr th:only-of-type {\n",
       "        vertical-align: middle;\n",
       "    }\n",
       "\n",
       "    .dataframe tbody tr th {\n",
       "        vertical-align: top;\n",
       "    }\n",
       "\n",
       "    .dataframe thead th {\n",
       "        text-align: right;\n",
       "    }\n",
       "</style>\n",
       "<table border=\"1\" class=\"dataframe\">\n",
       "  <thead>\n",
       "    <tr style=\"text-align: right;\">\n",
       "      <th></th>\n",
       "      <th>Minimum temperature (°C)</th>\n",
       "      <th>Maximum temperature (°C)</th>\n",
       "      <th>Average temperature (°C)</th>\n",
       "      <th>Temperature range (°C)</th>\n",
       "      <th>Sunshine (hours)</th>\n",
       "      <th>Max_Demand</th>\n",
       "      <th>PRICECATEGORY</th>\n",
       "      <th>Max_Demand_binned</th>\n",
       "      <th>Average temperature (°C)_binned</th>\n",
       "    </tr>\n",
       "    <tr>\n",
       "      <th>Date</th>\n",
       "      <th></th>\n",
       "      <th></th>\n",
       "      <th></th>\n",
       "      <th></th>\n",
       "      <th></th>\n",
       "      <th></th>\n",
       "      <th></th>\n",
       "      <th></th>\n",
       "      <th></th>\n",
       "    </tr>\n",
       "  </thead>\n",
       "  <tbody>\n",
       "    <tr>\n",
       "      <th>1/01/2021</th>\n",
       "      <td>15.6</td>\n",
       "      <td>29.9</td>\n",
       "      <td>22.75</td>\n",
       "      <td>14.3</td>\n",
       "      <td>9.3</td>\n",
       "      <td>5019.64</td>\n",
       "      <td>LOW</td>\n",
       "      <td>(4469.326, 5403.995]</td>\n",
       "      <td>(18.85, 24.775]</td>\n",
       "    </tr>\n",
       "    <tr>\n",
       "      <th>2/01/2021</th>\n",
       "      <td>18.4</td>\n",
       "      <td>29.0</td>\n",
       "      <td>23.70</td>\n",
       "      <td>10.6</td>\n",
       "      <td>1.3</td>\n",
       "      <td>4964.35</td>\n",
       "      <td>LOW</td>\n",
       "      <td>(4469.326, 5403.995]</td>\n",
       "      <td>(18.85, 24.775]</td>\n",
       "    </tr>\n",
       "    <tr>\n",
       "      <th>3/01/2021</th>\n",
       "      <td>17.0</td>\n",
       "      <td>26.2</td>\n",
       "      <td>21.60</td>\n",
       "      <td>9.2</td>\n",
       "      <td>7.1</td>\n",
       "      <td>4503.31</td>\n",
       "      <td>LOW</td>\n",
       "      <td>(4469.326, 5403.995]</td>\n",
       "      <td>(18.85, 24.775]</td>\n",
       "    </tr>\n",
       "    <tr>\n",
       "      <th>4/01/2021</th>\n",
       "      <td>16.0</td>\n",
       "      <td>18.6</td>\n",
       "      <td>17.30</td>\n",
       "      <td>2.6</td>\n",
       "      <td>0.0</td>\n",
       "      <td>4764.18</td>\n",
       "      <td>LOW</td>\n",
       "      <td>(4469.326, 5403.995]</td>\n",
       "      <td>(12.925, 18.85]</td>\n",
       "    </tr>\n",
       "    <tr>\n",
       "      <th>5/01/2021</th>\n",
       "      <td>15.9</td>\n",
       "      <td>19.1</td>\n",
       "      <td>17.50</td>\n",
       "      <td>3.2</td>\n",
       "      <td>0.0</td>\n",
       "      <td>4800.64</td>\n",
       "      <td>LOW</td>\n",
       "      <td>(4469.326, 5403.995]</td>\n",
       "      <td>(12.925, 18.85]</td>\n",
       "    </tr>\n",
       "  </tbody>\n",
       "</table>\n",
       "</div>"
      ],
      "text/plain": [
       "           Minimum temperature (°C)  Maximum temperature (°C)  \\\n",
       "Date                                                            \n",
       "1/01/2021                      15.6                      29.9   \n",
       "2/01/2021                      18.4                      29.0   \n",
       "3/01/2021                      17.0                      26.2   \n",
       "4/01/2021                      16.0                      18.6   \n",
       "5/01/2021                      15.9                      19.1   \n",
       "\n",
       "           Average temperature (°C)  Temperature range (°C)  Sunshine (hours)  \\\n",
       "Date                                                                            \n",
       "1/01/2021                     22.75                    14.3               9.3   \n",
       "2/01/2021                     23.70                    10.6               1.3   \n",
       "3/01/2021                     21.60                     9.2               7.1   \n",
       "4/01/2021                     17.30                     2.6               0.0   \n",
       "5/01/2021                     17.50                     3.2               0.0   \n",
       "\n",
       "           Max_Demand PRICECATEGORY     Max_Demand_binned  \\\n",
       "Date                                                        \n",
       "1/01/2021     5019.64           LOW  (4469.326, 5403.995]   \n",
       "2/01/2021     4964.35           LOW  (4469.326, 5403.995]   \n",
       "3/01/2021     4503.31           LOW  (4469.326, 5403.995]   \n",
       "4/01/2021     4764.18           LOW  (4469.326, 5403.995]   \n",
       "5/01/2021     4800.64           LOW  (4469.326, 5403.995]   \n",
       "\n",
       "          Average temperature (°C)_binned  \n",
       "Date                                       \n",
       "1/01/2021                 (18.85, 24.775]  \n",
       "2/01/2021                 (18.85, 24.775]  \n",
       "3/01/2021                 (18.85, 24.775]  \n",
       "4/01/2021                 (12.925, 18.85]  \n",
       "5/01/2021                 (12.925, 18.85]  "
      ]
     },
     "execution_count": 43,
     "metadata": {},
     "output_type": "execute_result"
    }
   ],
   "source": [
    "result.head()"
   ]
  },
  {
   "cell_type": "code",
   "execution_count": 44,
   "id": "ae3a4a0a",
   "metadata": {},
   "outputs": [
    {
     "data": {
      "text/plain": [
       "0.27372631328849034"
      ]
     },
     "execution_count": 44,
     "metadata": {},
     "output_type": "execute_result"
    }
   ],
   "source": [
    "normalized_mutual_info_score(result['Max_Demand_binned'], result['Average temperature (°C)_binned'], average_method='min')"
   ]
  },
  {
   "cell_type": "code",
   "execution_count": 45,
   "id": "de4444eb",
   "metadata": {},
   "outputs": [
    {
     "data": {
      "text/html": [
       "<div>\n",
       "<style scoped>\n",
       "    .dataframe tbody tr th:only-of-type {\n",
       "        vertical-align: middle;\n",
       "    }\n",
       "\n",
       "    .dataframe tbody tr th {\n",
       "        vertical-align: top;\n",
       "    }\n",
       "\n",
       "    .dataframe thead th {\n",
       "        text-align: right;\n",
       "    }\n",
       "</style>\n",
       "<table border=\"1\" class=\"dataframe\">\n",
       "  <thead>\n",
       "    <tr style=\"text-align: right;\">\n",
       "      <th></th>\n",
       "      <th>Minimum temperature (°C)</th>\n",
       "      <th>Maximum temperature (°C)</th>\n",
       "      <th>Average temperature (°C)</th>\n",
       "      <th>Temperature range (°C)</th>\n",
       "      <th>Sunshine (hours)</th>\n",
       "      <th>Max_Demand</th>\n",
       "      <th>PRICECATEGORY</th>\n",
       "      <th>Max_Demand_binned</th>\n",
       "      <th>Average temperature (°C)_binned</th>\n",
       "    </tr>\n",
       "    <tr>\n",
       "      <th>Date</th>\n",
       "      <th></th>\n",
       "      <th></th>\n",
       "      <th></th>\n",
       "      <th></th>\n",
       "      <th></th>\n",
       "      <th></th>\n",
       "      <th></th>\n",
       "      <th></th>\n",
       "      <th></th>\n",
       "    </tr>\n",
       "  </thead>\n",
       "  <tbody>\n",
       "    <tr>\n",
       "      <th>4/01/2021</th>\n",
       "      <td>16.0</td>\n",
       "      <td>18.6</td>\n",
       "      <td>17.30</td>\n",
       "      <td>2.6</td>\n",
       "      <td>0.0</td>\n",
       "      <td>4764.18</td>\n",
       "      <td>LOW</td>\n",
       "      <td>(4469.326, 5403.995]</td>\n",
       "      <td>(12.925, 18.85]</td>\n",
       "    </tr>\n",
       "    <tr>\n",
       "      <th>5/01/2021</th>\n",
       "      <td>15.9</td>\n",
       "      <td>19.1</td>\n",
       "      <td>17.50</td>\n",
       "      <td>3.2</td>\n",
       "      <td>0.0</td>\n",
       "      <td>4800.64</td>\n",
       "      <td>LOW</td>\n",
       "      <td>(4469.326, 5403.995]</td>\n",
       "      <td>(12.925, 18.85]</td>\n",
       "    </tr>\n",
       "    <tr>\n",
       "      <th>6/01/2021</th>\n",
       "      <td>13.7</td>\n",
       "      <td>19.2</td>\n",
       "      <td>16.45</td>\n",
       "      <td>5.5</td>\n",
       "      <td>3.2</td>\n",
       "      <td>4691.13</td>\n",
       "      <td>LOW</td>\n",
       "      <td>(4469.326, 5403.995]</td>\n",
       "      <td>(12.925, 18.85]</td>\n",
       "    </tr>\n",
       "    <tr>\n",
       "      <th>15/01/2021</th>\n",
       "      <td>13.2</td>\n",
       "      <td>20.6</td>\n",
       "      <td>16.90</td>\n",
       "      <td>7.4</td>\n",
       "      <td>7.9</td>\n",
       "      <td>4742.85</td>\n",
       "      <td>MEDIUM</td>\n",
       "      <td>(4469.326, 5403.995]</td>\n",
       "      <td>(12.925, 18.85]</td>\n",
       "    </tr>\n",
       "    <tr>\n",
       "      <th>16/01/2021</th>\n",
       "      <td>11.0</td>\n",
       "      <td>20.1</td>\n",
       "      <td>15.55</td>\n",
       "      <td>9.1</td>\n",
       "      <td>3.7</td>\n",
       "      <td>4529.66</td>\n",
       "      <td>LOW</td>\n",
       "      <td>(4469.326, 5403.995]</td>\n",
       "      <td>(12.925, 18.85]</td>\n",
       "    </tr>\n",
       "  </tbody>\n",
       "</table>\n",
       "</div>"
      ],
      "text/plain": [
       "            Minimum temperature (°C)  Maximum temperature (°C)  \\\n",
       "Date                                                             \n",
       "4/01/2021                       16.0                      18.6   \n",
       "5/01/2021                       15.9                      19.1   \n",
       "6/01/2021                       13.7                      19.2   \n",
       "15/01/2021                      13.2                      20.6   \n",
       "16/01/2021                      11.0                      20.1   \n",
       "\n",
       "            Average temperature (°C)  Temperature range (°C)  \\\n",
       "Date                                                           \n",
       "4/01/2021                      17.30                     2.6   \n",
       "5/01/2021                      17.50                     3.2   \n",
       "6/01/2021                      16.45                     5.5   \n",
       "15/01/2021                     16.90                     7.4   \n",
       "16/01/2021                     15.55                     9.1   \n",
       "\n",
       "            Sunshine (hours)  Max_Demand PRICECATEGORY     Max_Demand_binned  \\\n",
       "Date                                                                           \n",
       "4/01/2021                0.0     4764.18           LOW  (4469.326, 5403.995]   \n",
       "5/01/2021                0.0     4800.64           LOW  (4469.326, 5403.995]   \n",
       "6/01/2021                3.2     4691.13           LOW  (4469.326, 5403.995]   \n",
       "15/01/2021               7.9     4742.85        MEDIUM  (4469.326, 5403.995]   \n",
       "16/01/2021               3.7     4529.66           LOW  (4469.326, 5403.995]   \n",
       "\n",
       "           Average temperature (°C)_binned  \n",
       "Date                                        \n",
       "4/01/2021                  (12.925, 18.85]  \n",
       "5/01/2021                  (12.925, 18.85]  \n",
       "6/01/2021                  (12.925, 18.85]  \n",
       "15/01/2021                 (12.925, 18.85]  \n",
       "16/01/2021                 (12.925, 18.85]  "
      ]
     },
     "execution_count": 45,
     "metadata": {},
     "output_type": "execute_result"
    }
   ],
   "source": [
    "result1 = result.loc[result['Average temperature (°C)'] <= 18]\n",
    "result1.head()"
   ]
  },
  {
   "cell_type": "code",
   "execution_count": 46,
   "id": "056e8a82",
   "metadata": {},
   "outputs": [
    {
     "data": {
      "image/png": "[encoded data removed]",
      "text/plain": [
       "<Figure size 640x480 with 1 Axes>"
      ]
     },
     "metadata": {},
     "output_type": "display_data"
    },
    {
     "name": "stdout",
     "output_type": "stream",
     "text": [
      "Pearson r is  -0.8237775833317617\n"
     ]
    }
   ],
   "source": [
    "plt.scatter(result1['Average temperature (°C)'],result1['Max_Demand'])\n",
    "plt.show()\n",
    "\n",
    "print(\"Pearson r is \",result1['Average temperature (°C)'].corr(result1['Max_Demand']))"
   ]
  },
  {
   "cell_type": "code",
   "execution_count": 47,
   "id": "18bd7da3",
   "metadata": {
    "scrolled": true
   },
   "outputs": [
    {
     "name": "stderr",
     "output_type": "stream",
     "text": [
      "C:\\Users\\foadm\\AppData\\Local\\Temp\\ipykernel_6088\\3798743104.py:1: SettingWithCopyWarning: \n",
      "A value is trying to be set on a copy of a slice from a DataFrame.\n",
      "Try using .loc[row_indexer,col_indexer] = value instead\n",
      "\n",
      "See the caveats in the documentation: https://pandas.pydata.org/pandas-docs/stable/user_guide/indexing.html#returning-a-view-versus-a-copy\n",
      "  result1['Max_Demand_binned'] = pd.cut(result1['Max_Demand'], bins = 4)\n"
     ]
    }
   ],
   "source": [
    "result1['Max_Demand_binned'] = pd.cut(result1['Max_Demand'], bins = 4)"
   ]
  },
  {
   "cell_type": "code",
   "execution_count": 48,
   "id": "5b8b126b",
   "metadata": {},
   "outputs": [
    {
     "name": "stderr",
     "output_type": "stream",
     "text": [
      "C:\\Users\\foadm\\AppData\\Local\\Temp\\ipykernel_6088\\1366586769.py:1: SettingWithCopyWarning: \n",
      "A value is trying to be set on a copy of a slice from a DataFrame.\n",
      "Try using .loc[row_indexer,col_indexer] = value instead\n",
      "\n",
      "See the caveats in the documentation: https://pandas.pydata.org/pandas-docs/stable/user_guide/indexing.html#returning-a-view-versus-a-copy\n",
      "  result1['Average temperature (°C)_binned'] = pd.cut(result1['Average temperature (°C)'], bins = 4)\n"
     ]
    }
   ],
   "source": [
    "result1['Average temperature (°C)_binned'] = pd.cut(result1['Average temperature (°C)'], bins = 4)"
   ]
  },
  {
   "cell_type": "code",
   "execution_count": 50,
   "id": "03783242",
   "metadata": {},
   "outputs": [
    {
     "data": {
      "text/html": [
       "<div>\n",
       "<style scoped>\n",
       "    .dataframe tbody tr th:only-of-type {\n",
       "        vertical-align: middle;\n",
       "    }\n",
       "\n",
       "    .dataframe tbody tr th {\n",
       "        vertical-align: top;\n",
       "    }\n",
       "\n",
       "    .dataframe thead th {\n",
       "        text-align: right;\n",
       "    }\n",
       "</style>\n",
       "<table border=\"1\" class=\"dataframe\">\n",
       "  <thead>\n",
       "    <tr style=\"text-align: right;\">\n",
       "      <th></th>\n",
       "      <th>Minimum temperature (°C)</th>\n",
       "      <th>Maximum temperature (°C)</th>\n",
       "      <th>Average temperature (°C)</th>\n",
       "      <th>Temperature range (°C)</th>\n",
       "      <th>Sunshine (hours)</th>\n",
       "      <th>Max_Demand</th>\n",
       "      <th>PRICECATEGORY</th>\n",
       "      <th>Max_Demand_binned</th>\n",
       "      <th>Average temperature (°C)_binned</th>\n",
       "    </tr>\n",
       "    <tr>\n",
       "      <th>Date</th>\n",
       "      <th></th>\n",
       "      <th></th>\n",
       "      <th></th>\n",
       "      <th></th>\n",
       "      <th></th>\n",
       "      <th></th>\n",
       "      <th></th>\n",
       "      <th></th>\n",
       "      <th></th>\n",
       "    </tr>\n",
       "  </thead>\n",
       "  <tbody>\n",
       "    <tr>\n",
       "      <th>4/01/2021</th>\n",
       "      <td>16.0</td>\n",
       "      <td>18.6</td>\n",
       "      <td>17.30</td>\n",
       "      <td>2.6</td>\n",
       "      <td>0.0</td>\n",
       "      <td>4764.18</td>\n",
       "      <td>LOW</td>\n",
       "      <td>(4469.893, 5262.23]</td>\n",
       "      <td>(15.175, 17.9]</td>\n",
       "    </tr>\n",
       "    <tr>\n",
       "      <th>5/01/2021</th>\n",
       "      <td>15.9</td>\n",
       "      <td>19.1</td>\n",
       "      <td>17.50</td>\n",
       "      <td>3.2</td>\n",
       "      <td>0.0</td>\n",
       "      <td>4800.64</td>\n",
       "      <td>LOW</td>\n",
       "      <td>(4469.893, 5262.23]</td>\n",
       "      <td>(15.175, 17.9]</td>\n",
       "    </tr>\n",
       "    <tr>\n",
       "      <th>6/01/2021</th>\n",
       "      <td>13.7</td>\n",
       "      <td>19.2</td>\n",
       "      <td>16.45</td>\n",
       "      <td>5.5</td>\n",
       "      <td>3.2</td>\n",
       "      <td>4691.13</td>\n",
       "      <td>LOW</td>\n",
       "      <td>(4469.893, 5262.23]</td>\n",
       "      <td>(15.175, 17.9]</td>\n",
       "    </tr>\n",
       "    <tr>\n",
       "      <th>15/01/2021</th>\n",
       "      <td>13.2</td>\n",
       "      <td>20.6</td>\n",
       "      <td>16.90</td>\n",
       "      <td>7.4</td>\n",
       "      <td>7.9</td>\n",
       "      <td>4742.85</td>\n",
       "      <td>MEDIUM</td>\n",
       "      <td>(4469.893, 5262.23]</td>\n",
       "      <td>(15.175, 17.9]</td>\n",
       "    </tr>\n",
       "    <tr>\n",
       "      <th>16/01/2021</th>\n",
       "      <td>11.0</td>\n",
       "      <td>20.1</td>\n",
       "      <td>15.55</td>\n",
       "      <td>9.1</td>\n",
       "      <td>3.7</td>\n",
       "      <td>4529.66</td>\n",
       "      <td>LOW</td>\n",
       "      <td>(4469.893, 5262.23]</td>\n",
       "      <td>(15.175, 17.9]</td>\n",
       "    </tr>\n",
       "  </tbody>\n",
       "</table>\n",
       "</div>"
      ],
      "text/plain": [
       "            Minimum temperature (°C)  Maximum temperature (°C)  \\\n",
       "Date                                                             \n",
       "4/01/2021                       16.0                      18.6   \n",
       "5/01/2021                       15.9                      19.1   \n",
       "6/01/2021                       13.7                      19.2   \n",
       "15/01/2021                      13.2                      20.6   \n",
       "16/01/2021                      11.0                      20.1   \n",
       "\n",
       "            Average temperature (°C)  Temperature range (°C)  \\\n",
       "Date                                                           \n",
       "4/01/2021                      17.30                     2.6   \n",
       "5/01/2021                      17.50                     3.2   \n",
       "6/01/2021                      16.45                     5.5   \n",
       "15/01/2021                     16.90                     7.4   \n",
       "16/01/2021                     15.55                     9.1   \n",
       "\n",
       "            Sunshine (hours)  Max_Demand PRICECATEGORY    Max_Demand_binned  \\\n",
       "Date                                                                          \n",
       "4/01/2021                0.0     4764.18           LOW  (4469.893, 5262.23]   \n",
       "5/01/2021                0.0     4800.64           LOW  (4469.893, 5262.23]   \n",
       "6/01/2021                3.2     4691.13           LOW  (4469.893, 5262.23]   \n",
       "15/01/2021               7.9     4742.85        MEDIUM  (4469.893, 5262.23]   \n",
       "16/01/2021               3.7     4529.66           LOW  (4469.893, 5262.23]   \n",
       "\n",
       "           Average temperature (°C)_binned  \n",
       "Date                                        \n",
       "4/01/2021                   (15.175, 17.9]  \n",
       "5/01/2021                   (15.175, 17.9]  \n",
       "6/01/2021                   (15.175, 17.9]  \n",
       "15/01/2021                  (15.175, 17.9]  \n",
       "16/01/2021                  (15.175, 17.9]  "
      ]
     },
     "execution_count": 50,
     "metadata": {},
     "output_type": "execute_result"
    }
   ],
   "source": [
    "result1.head()"
   ]
  },
  {
   "cell_type": "code",
   "execution_count": 51,
   "id": "71bff871",
   "metadata": {},
   "outputs": [
    {
     "data": {
      "text/plain": [
       "0.36203464286092446"
      ]
     },
     "execution_count": 51,
     "metadata": {},
     "output_type": "execute_result"
    }
   ],
   "source": [
    "normalized_mutual_info_score(result1['Max_Demand_binned'], result1['Average temperature (°C)_binned'], average_method='min')"
   ]
  },
  {
   "cell_type": "code",
   "execution_count": 52,
   "id": "1993af18",
   "metadata": {},
   "outputs": [
    {
     "data": {
      "text/html": [
       "<div>\n",
       "<style scoped>\n",
       "    .dataframe tbody tr th:only-of-type {\n",
       "        vertical-align: middle;\n",
       "    }\n",
       "\n",
       "    .dataframe tbody tr th {\n",
       "        vertical-align: top;\n",
       "    }\n",
       "\n",
       "    .dataframe thead th {\n",
       "        text-align: right;\n",
       "    }\n",
       "</style>\n",
       "<table border=\"1\" class=\"dataframe\">\n",
       "  <thead>\n",
       "    <tr style=\"text-align: right;\">\n",
       "      <th></th>\n",
       "      <th>Minimum temperature (°C)</th>\n",
       "      <th>Maximum temperature (°C)</th>\n",
       "      <th>Average temperature (°C)</th>\n",
       "      <th>Temperature range (°C)</th>\n",
       "      <th>Sunshine (hours)</th>\n",
       "      <th>Max_Demand</th>\n",
       "      <th>PRICECATEGORY</th>\n",
       "      <th>Max_Demand_binned</th>\n",
       "      <th>Average temperature (°C)_binned</th>\n",
       "    </tr>\n",
       "    <tr>\n",
       "      <th>Date</th>\n",
       "      <th></th>\n",
       "      <th></th>\n",
       "      <th></th>\n",
       "      <th></th>\n",
       "      <th></th>\n",
       "      <th></th>\n",
       "      <th></th>\n",
       "      <th></th>\n",
       "      <th></th>\n",
       "    </tr>\n",
       "  </thead>\n",
       "  <tbody>\n",
       "    <tr>\n",
       "      <th>1/01/2021</th>\n",
       "      <td>15.6</td>\n",
       "      <td>29.9</td>\n",
       "      <td>22.75</td>\n",
       "      <td>14.3</td>\n",
       "      <td>9.3</td>\n",
       "      <td>5019.64</td>\n",
       "      <td>LOW</td>\n",
       "      <td>(4469.326, 5403.995]</td>\n",
       "      <td>(18.85, 24.775]</td>\n",
       "    </tr>\n",
       "    <tr>\n",
       "      <th>2/01/2021</th>\n",
       "      <td>18.4</td>\n",
       "      <td>29.0</td>\n",
       "      <td>23.70</td>\n",
       "      <td>10.6</td>\n",
       "      <td>1.3</td>\n",
       "      <td>4964.35</td>\n",
       "      <td>LOW</td>\n",
       "      <td>(4469.326, 5403.995]</td>\n",
       "      <td>(18.85, 24.775]</td>\n",
       "    </tr>\n",
       "    <tr>\n",
       "      <th>3/01/2021</th>\n",
       "      <td>17.0</td>\n",
       "      <td>26.2</td>\n",
       "      <td>21.60</td>\n",
       "      <td>9.2</td>\n",
       "      <td>7.1</td>\n",
       "      <td>4503.31</td>\n",
       "      <td>LOW</td>\n",
       "      <td>(4469.326, 5403.995]</td>\n",
       "      <td>(18.85, 24.775]</td>\n",
       "    </tr>\n",
       "    <tr>\n",
       "      <th>7/01/2021</th>\n",
       "      <td>14.7</td>\n",
       "      <td>25.7</td>\n",
       "      <td>20.20</td>\n",
       "      <td>11.0</td>\n",
       "      <td>12.1</td>\n",
       "      <td>4994.78</td>\n",
       "      <td>LOW</td>\n",
       "      <td>(4469.326, 5403.995]</td>\n",
       "      <td>(18.85, 24.775]</td>\n",
       "    </tr>\n",
       "    <tr>\n",
       "      <th>8/01/2021</th>\n",
       "      <td>12.7</td>\n",
       "      <td>24.3</td>\n",
       "      <td>18.50</td>\n",
       "      <td>11.6</td>\n",
       "      <td>13.1</td>\n",
       "      <td>5365.19</td>\n",
       "      <td>MEDIUM</td>\n",
       "      <td>(4469.326, 5403.995]</td>\n",
       "      <td>(12.925, 18.85]</td>\n",
       "    </tr>\n",
       "  </tbody>\n",
       "</table>\n",
       "</div>"
      ],
      "text/plain": [
       "           Minimum temperature (°C)  Maximum temperature (°C)  \\\n",
       "Date                                                            \n",
       "1/01/2021                      15.6                      29.9   \n",
       "2/01/2021                      18.4                      29.0   \n",
       "3/01/2021                      17.0                      26.2   \n",
       "7/01/2021                      14.7                      25.7   \n",
       "8/01/2021                      12.7                      24.3   \n",
       "\n",
       "           Average temperature (°C)  Temperature range (°C)  Sunshine (hours)  \\\n",
       "Date                                                                            \n",
       "1/01/2021                     22.75                    14.3               9.3   \n",
       "2/01/2021                     23.70                    10.6               1.3   \n",
       "3/01/2021                     21.60                     9.2               7.1   \n",
       "7/01/2021                     20.20                    11.0              12.1   \n",
       "8/01/2021                     18.50                    11.6              13.1   \n",
       "\n",
       "           Max_Demand PRICECATEGORY     Max_Demand_binned  \\\n",
       "Date                                                        \n",
       "1/01/2021     5019.64           LOW  (4469.326, 5403.995]   \n",
       "2/01/2021     4964.35           LOW  (4469.326, 5403.995]   \n",
       "3/01/2021     4503.31           LOW  (4469.326, 5403.995]   \n",
       "7/01/2021     4994.78           LOW  (4469.326, 5403.995]   \n",
       "8/01/2021     5365.19        MEDIUM  (4469.326, 5403.995]   \n",
       "\n",
       "          Average temperature (°C)_binned  \n",
       "Date                                       \n",
       "1/01/2021                 (18.85, 24.775]  \n",
       "2/01/2021                 (18.85, 24.775]  \n",
       "3/01/2021                 (18.85, 24.775]  \n",
       "7/01/2021                 (18.85, 24.775]  \n",
       "8/01/2021                 (12.925, 18.85]  "
      ]
     },
     "execution_count": 52,
     "metadata": {},
     "output_type": "execute_result"
    }
   ],
   "source": [
    "result2 = result.loc[result['Average temperature (°C)'] >= 18]\n",
    "result2.head()"
   ]
  },
  {
   "cell_type": "code",
   "execution_count": 53,
   "id": "9035f945",
   "metadata": {},
   "outputs": [
    {
     "data": {
      "image/png": "[encoded data removed]",
      "text/plain": [
       "<Figure size 640x480 with 1 Axes>"
      ]
     },
     "metadata": {},
     "output_type": "display_data"
    },
    {
     "name": "stdout",
     "output_type": "stream",
     "text": [
      "Pearson r is  0.7755552610053515\n"
     ]
    }
   ],
   "source": [
    "plt.scatter(result2['Average temperature (°C)'],result2['Max_Demand'])\n",
    "plt.show()\n",
    "\n",
    "print(\"Pearson r is \",result2['Average temperature (°C)'].corr(result2['Max_Demand']))"
   ]
  },
  {
   "cell_type": "code",
   "execution_count": 54,
   "id": "380ef983",
   "metadata": {},
   "outputs": [
    {
     "name": "stderr",
     "output_type": "stream",
     "text": [
      "C:\\Users\\foadm\\AppData\\Local\\Temp\\ipykernel_6088\\1428866584.py:1: SettingWithCopyWarning: \n",
      "A value is trying to be set on a copy of a slice from a DataFrame.\n",
      "Try using .loc[row_indexer,col_indexer] = value instead\n",
      "\n",
      "See the caveats in the documentation: https://pandas.pydata.org/pandas-docs/stable/user_guide/indexing.html#returning-a-view-versus-a-copy\n",
      "  result2['Max_Demand_binned'] = pd.cut(result2['Max_Demand'], bins = 4)\n"
     ]
    }
   ],
   "source": [
    "result2['Max_Demand_binned'] = pd.cut(result2['Max_Demand'], bins = 4)"
   ]
  },
  {
   "cell_type": "code",
   "execution_count": 55,
   "id": "42e314a1",
   "metadata": {},
   "outputs": [
    {
     "name": "stderr",
     "output_type": "stream",
     "text": [
      "C:\\Users\\foadm\\AppData\\Local\\Temp\\ipykernel_6088\\3696808874.py:1: SettingWithCopyWarning: \n",
      "A value is trying to be set on a copy of a slice from a DataFrame.\n",
      "Try using .loc[row_indexer,col_indexer] = value instead\n",
      "\n",
      "See the caveats in the documentation: https://pandas.pydata.org/pandas-docs/stable/user_guide/indexing.html#returning-a-view-versus-a-copy\n",
      "  result2['Average temperature (°C)_binned'] = pd.cut(result2['Average temperature (°C)'], bins = 4)\n"
     ]
    }
   ],
   "source": [
    "result2['Average temperature (°C)_binned'] = pd.cut(result2['Average temperature (°C)'], bins = 4)"
   ]
  },
  {
   "cell_type": "code",
   "execution_count": 57,
   "id": "6fffe9f5",
   "metadata": {},
   "outputs": [
    {
     "data": {
      "text/html": [
       "<div>\n",
       "<style scoped>\n",
       "    .dataframe tbody tr th:only-of-type {\n",
       "        vertical-align: middle;\n",
       "    }\n",
       "\n",
       "    .dataframe tbody tr th {\n",
       "        vertical-align: top;\n",
       "    }\n",
       "\n",
       "    .dataframe thead th {\n",
       "        text-align: right;\n",
       "    }\n",
       "</style>\n",
       "<table border=\"1\" class=\"dataframe\">\n",
       "  <thead>\n",
       "    <tr style=\"text-align: right;\">\n",
       "      <th></th>\n",
       "      <th>Minimum temperature (°C)</th>\n",
       "      <th>Maximum temperature (°C)</th>\n",
       "      <th>Average temperature (°C)</th>\n",
       "      <th>Temperature range (°C)</th>\n",
       "      <th>Sunshine (hours)</th>\n",
       "      <th>Max_Demand</th>\n",
       "      <th>PRICECATEGORY</th>\n",
       "      <th>Max_Demand_binned</th>\n",
       "      <th>Average temperature (°C)_binned</th>\n",
       "    </tr>\n",
       "    <tr>\n",
       "      <th>Date</th>\n",
       "      <th></th>\n",
       "      <th></th>\n",
       "      <th></th>\n",
       "      <th></th>\n",
       "      <th></th>\n",
       "      <th></th>\n",
       "      <th></th>\n",
       "      <th></th>\n",
       "      <th></th>\n",
       "    </tr>\n",
       "  </thead>\n",
       "  <tbody>\n",
       "    <tr>\n",
       "      <th>1/01/2021</th>\n",
       "      <td>15.6</td>\n",
       "      <td>29.9</td>\n",
       "      <td>22.75</td>\n",
       "      <td>14.3</td>\n",
       "      <td>9.3</td>\n",
       "      <td>5019.64</td>\n",
       "      <td>LOW</td>\n",
       "      <td>(4499.616, 5426.69]</td>\n",
       "      <td>(21.288, 24.425]</td>\n",
       "    </tr>\n",
       "    <tr>\n",
       "      <th>2/01/2021</th>\n",
       "      <td>18.4</td>\n",
       "      <td>29.0</td>\n",
       "      <td>23.70</td>\n",
       "      <td>10.6</td>\n",
       "      <td>1.3</td>\n",
       "      <td>4964.35</td>\n",
       "      <td>LOW</td>\n",
       "      <td>(4499.616, 5426.69]</td>\n",
       "      <td>(21.288, 24.425]</td>\n",
       "    </tr>\n",
       "    <tr>\n",
       "      <th>3/01/2021</th>\n",
       "      <td>17.0</td>\n",
       "      <td>26.2</td>\n",
       "      <td>21.60</td>\n",
       "      <td>9.2</td>\n",
       "      <td>7.1</td>\n",
       "      <td>4503.31</td>\n",
       "      <td>LOW</td>\n",
       "      <td>(4499.616, 5426.69]</td>\n",
       "      <td>(21.288, 24.425]</td>\n",
       "    </tr>\n",
       "    <tr>\n",
       "      <th>7/01/2021</th>\n",
       "      <td>14.7</td>\n",
       "      <td>25.7</td>\n",
       "      <td>20.20</td>\n",
       "      <td>11.0</td>\n",
       "      <td>12.1</td>\n",
       "      <td>4994.78</td>\n",
       "      <td>LOW</td>\n",
       "      <td>(4499.616, 5426.69]</td>\n",
       "      <td>(18.137, 21.288]</td>\n",
       "    </tr>\n",
       "    <tr>\n",
       "      <th>8/01/2021</th>\n",
       "      <td>12.7</td>\n",
       "      <td>24.3</td>\n",
       "      <td>18.50</td>\n",
       "      <td>11.6</td>\n",
       "      <td>13.1</td>\n",
       "      <td>5365.19</td>\n",
       "      <td>MEDIUM</td>\n",
       "      <td>(4499.616, 5426.69]</td>\n",
       "      <td>(18.137, 21.288]</td>\n",
       "    </tr>\n",
       "  </tbody>\n",
       "</table>\n",
       "</div>"
      ],
      "text/plain": [
       "           Minimum temperature (°C)  Maximum temperature (°C)  \\\n",
       "Date                                                            \n",
       "1/01/2021                      15.6                      29.9   \n",
       "2/01/2021                      18.4                      29.0   \n",
       "3/01/2021                      17.0                      26.2   \n",
       "7/01/2021                      14.7                      25.7   \n",
       "8/01/2021                      12.7                      24.3   \n",
       "\n",
       "           Average temperature (°C)  Temperature range (°C)  Sunshine (hours)  \\\n",
       "Date                                                                            \n",
       "1/01/2021                     22.75                    14.3               9.3   \n",
       "2/01/2021                     23.70                    10.6               1.3   \n",
       "3/01/2021                     21.60                     9.2               7.1   \n",
       "7/01/2021                     20.20                    11.0              12.1   \n",
       "8/01/2021                     18.50                    11.6              13.1   \n",
       "\n",
       "           Max_Demand PRICECATEGORY    Max_Demand_binned  \\\n",
       "Date                                                       \n",
       "1/01/2021     5019.64           LOW  (4499.616, 5426.69]   \n",
       "2/01/2021     4964.35           LOW  (4499.616, 5426.69]   \n",
       "3/01/2021     4503.31           LOW  (4499.616, 5426.69]   \n",
       "7/01/2021     4994.78           LOW  (4499.616, 5426.69]   \n",
       "8/01/2021     5365.19        MEDIUM  (4499.616, 5426.69]   \n",
       "\n",
       "          Average temperature (°C)_binned  \n",
       "Date                                       \n",
       "1/01/2021                (21.288, 24.425]  \n",
       "2/01/2021                (21.288, 24.425]  \n",
       "3/01/2021                (21.288, 24.425]  \n",
       "7/01/2021                (18.137, 21.288]  \n",
       "8/01/2021                (18.137, 21.288]  "
      ]
     },
     "execution_count": 57,
     "metadata": {},
     "output_type": "execute_result"
    }
   ],
   "source": [
    "result2.head()"
   ]
  },
  {
   "cell_type": "code",
   "execution_count": 58,
   "id": "ebb4bf08",
   "metadata": {},
   "outputs": [
    {
     "data": {
      "text/plain": [
       "0.3868698603282283"
      ]
     },
     "execution_count": 58,
     "metadata": {},
     "output_type": "execute_result"
    }
   ],
   "source": [
    "normalized_mutual_info_score(result2['Max_Demand_binned'], result2['Average temperature (°C)_binned'], average_method='min')"
   ]
  },
  {
   "cell_type": "code",
   "execution_count": 75,
   "id": "aaa0e84a",
   "metadata": {},
   "outputs": [
    {
     "data": {
      "image/png": "[encoded data removed]",
      "text/plain": [
       "<Figure size 640x480 with 1 Axes>"
      ]
     },
     "metadata": {},
     "output_type": "display_data"
    },
    {
     "name": "stdout",
     "output_type": "stream",
     "text": [
      "Pearson r is  0.26514061294955216\n"
     ]
    }
   ],
   "source": [
    "plt.scatter(result2['Sunshine (hours)'],result2['Max_Demand'])\n",
    "plt.show()\n",
    "\n",
    "print(\"Pearson r is \",result2['Sunshine (hours)'].corr(result2['Max_Demand']))"
   ]
  },
  {
   "cell_type": "code",
   "execution_count": 76,
   "id": "dd488cb2",
   "metadata": {},
   "outputs": [],
   "source": [
    "result2['Sunshine (hours)_binned'] = pd.cut(result2['Sunshine (hours)'], bins = 4)"
   ]
  },
  {
   "cell_type": "code",
   "execution_count": 77,
   "id": "d3deb02f",
   "metadata": {},
   "outputs": [
    {
     "data": {
      "text/plain": [
       "0.0952851535490847"
      ]
     },
     "execution_count": 77,
     "metadata": {},
     "output_type": "execute_result"
    }
   ],
   "source": [
    "normalized_mutual_info_score(result2['Max_Demand_binned'], result2['Sunshine (hours)_binned'], average_method='min')"
   ]
  },
  {
   "cell_type": "code",
   "execution_count": 59,
   "id": "e57ec1f0",
   "metadata": {},
   "outputs": [
    {
     "data": {
      "text/plain": [
       "0.19943213236756233"
      ]
     },
     "execution_count": 59,
     "metadata": {},
     "output_type": "execute_result"
    }
   ],
   "source": [
    "normalized_mutual_info_score(result['PRICECATEGORY'], result['Average temperature (°C)_binned'], average_method='min')"
   ]
  },
  {
   "cell_type": "code",
   "execution_count": 60,
   "id": "466cdc53",
   "metadata": {},
   "outputs": [
    {
     "data": {
      "text/plain": [
       "0.2209204690895333"
      ]
     },
     "execution_count": 60,
     "metadata": {},
     "output_type": "execute_result"
    }
   ],
   "source": [
    "normalized_mutual_info_score(result1['PRICECATEGORY'], result1['Average temperature (°C)_binned'], average_method='min')"
   ]
  },
  {
   "cell_type": "code",
   "execution_count": 61,
   "id": "6a47ab83",
   "metadata": {},
   "outputs": [
    {
     "data": {
      "text/plain": [
       "0.08945793106443801"
      ]
     },
     "execution_count": 61,
     "metadata": {},
     "output_type": "execute_result"
    }
   ],
   "source": [
    "normalized_mutual_info_score(result2['PRICECATEGORY'], result2['Average temperature (°C)_binned'], average_method='min')"
   ]
  },
  {
   "cell_type": "code",
   "execution_count": 62,
   "id": "0109d3cf",
   "metadata": {},
   "outputs": [
    {
     "name": "stderr",
     "output_type": "stream",
     "text": [
      "C:\\Users\\foadm\\AppData\\Local\\Temp\\ipykernel_6088\\2483832009.py:1: SettingWithCopyWarning: \n",
      "A value is trying to be set on a copy of a slice from a DataFrame.\n",
      "Try using .loc[row_indexer,col_indexer] = value instead\n",
      "\n",
      "See the caveats in the documentation: https://pandas.pydata.org/pandas-docs/stable/user_guide/indexing.html#returning-a-view-versus-a-copy\n",
      "  result['Maximum temperature (°C)_binned'] = pd.cut(result['Maximum temperature (°C)'], bins = 4)\n"
     ]
    }
   ],
   "source": [
    "result['Maximum temperature (°C)_binned'] = pd.cut(result['Maximum temperature (°C)'], bins = 4)"
   ]
  },
  {
   "cell_type": "code",
   "execution_count": 63,
   "id": "eb3bc14a",
   "metadata": {},
   "outputs": [
    {
     "data": {
      "text/plain": [
       "0.2514049922422264"
      ]
     },
     "execution_count": 63,
     "metadata": {},
     "output_type": "execute_result"
    }
   ],
   "source": [
    "normalized_mutual_info_score(result['PRICECATEGORY'], result['Maximum temperature (°C)_binned'], average_method='min')"
   ]
  },
  {
   "cell_type": "code",
   "execution_count": 64,
   "id": "35a9677f",
   "metadata": {},
   "outputs": [],
   "source": [
    "result1['Maximum temperature (°C)_binned'] = pd.cut(result1['Maximum temperature (°C)'], bins = 4)"
   ]
  },
  {
   "cell_type": "code",
   "execution_count": 65,
   "id": "a61b0a95",
   "metadata": {
    "scrolled": true
   },
   "outputs": [
    {
     "data": {
      "text/plain": [
       "0.18814655172176065"
      ]
     },
     "execution_count": 65,
     "metadata": {},
     "output_type": "execute_result"
    }
   ],
   "source": [
    "normalized_mutual_info_score(result1['PRICECATEGORY'], result1['Maximum temperature (°C)_binned'], average_method='min')"
   ]
  },
  {
   "cell_type": "code",
   "execution_count": 66,
   "id": "e7d0ad0a",
   "metadata": {},
   "outputs": [],
   "source": [
    "result2['Maximum temperature (°C)_binned'] = pd.cut(result2['Maximum temperature (°C)'], bins = 4)"
   ]
  },
  {
   "cell_type": "code",
   "execution_count": 67,
   "id": "b5d747af",
   "metadata": {},
   "outputs": [
    {
     "data": {
      "text/plain": [
       "0.1107675919220544"
      ]
     },
     "execution_count": 67,
     "metadata": {},
     "output_type": "execute_result"
    }
   ],
   "source": [
    "normalized_mutual_info_score(result2['PRICECATEGORY'], result2['Maximum temperature (°C)_binned'], average_method='min')"
   ]
  },
  {
   "cell_type": "code",
   "execution_count": 68,
   "id": "7633c4da",
   "metadata": {},
   "outputs": [
    {
     "name": "stderr",
     "output_type": "stream",
     "text": [
      "C:\\Users\\foadm\\AppData\\Local\\Temp\\ipykernel_6088\\1358021419.py:1: SettingWithCopyWarning: \n",
      "A value is trying to be set on a copy of a slice from a DataFrame.\n",
      "Try using .loc[row_indexer,col_indexer] = value instead\n",
      "\n",
      "See the caveats in the documentation: https://pandas.pydata.org/pandas-docs/stable/user_guide/indexing.html#returning-a-view-versus-a-copy\n",
      "  result['Miniimum temperature (°C)_binned'] = pd.cut(result['Minimum temperature (°C)'], bins = 4)\n"
     ]
    }
   ],
   "source": [
    "result['Miniimum temperature (°C)_binned'] = pd.cut(result['Minimum temperature (°C)'], bins = 4)"
   ]
  },
  {
   "cell_type": "code",
   "execution_count": 69,
   "id": "09e207f8",
   "metadata": {},
   "outputs": [
    {
     "data": {
      "text/plain": [
       "0.2514049922422264"
      ]
     },
     "execution_count": 69,
     "metadata": {},
     "output_type": "execute_result"
    }
   ],
   "source": [
    "normalized_mutual_info_score(result['PRICECATEGORY'], result['Maximum temperature (°C)_binned'], average_method='min')"
   ]
  },
  {
   "cell_type": "code",
   "execution_count": 70,
   "id": "5f9ef7e3",
   "metadata": {},
   "outputs": [],
   "source": [
    "result1['Minimum temperature (°C)_binned'] = pd.cut(result1['Minimum temperature (°C)'], bins = 4)"
   ]
  },
  {
   "cell_type": "code",
   "execution_count": 71,
   "id": "ea5802d6",
   "metadata": {},
   "outputs": [
    {
     "data": {
      "text/plain": [
       "0.1753580873402963"
      ]
     },
     "execution_count": 71,
     "metadata": {},
     "output_type": "execute_result"
    }
   ],
   "source": [
    "normalized_mutual_info_score(result1['PRICECATEGORY'], result1['Minimum temperature (°C)_binned'], average_method='min')"
   ]
  },
  {
   "cell_type": "code",
   "execution_count": 72,
   "id": "1db2a84b",
   "metadata": {},
   "outputs": [],
   "source": [
    "result2['Miniimum temperature (°C)_binned'] = pd.cut(result2['Minimum temperature (°C)'], bins = 4)"
   ]
  },
  {
   "cell_type": "code",
   "execution_count": 73,
   "id": "fbb2561d",
   "metadata": {},
   "outputs": [
    {
     "data": {
      "text/plain": [
       "0.1107675919220544"
      ]
     },
     "execution_count": 73,
     "metadata": {},
     "output_type": "execute_result"
    }
   ],
   "source": [
    "normalized_mutual_info_score(result2['PRICECATEGORY'], result2['Maximum temperature (°C)_binned'], average_method='min')"
   ]
  },
  {
   "cell_type": "code",
   "execution_count": 74,
   "id": "2a9e8bae",
   "metadata": {},
   "outputs": [
    {
     "data": {
      "text/plain": [
       "0.275560450513684"
      ]
     },
     "execution_count": 74,
     "metadata": {},
     "output_type": "execute_result"
    }
   ],
   "source": [
    "normalized_mutual_info_score(result['PRICECATEGORY'], result['Max_Demand_binned'], average_method='min')"
   ]
  }
 ],
 "metadata": {
  "kernelspec": {
   "display_name": "Python 3 (ipykernel)",
   "language": "python",
   "name": "python3"
  },
  "language_info": {
   "codemirror_mode": {
    "name": "ipython",
    "version": 3
   },
   "file_extension": ".py",
   "mimetype": "text/x-python",
   "name": "python",
   "nbconvert_exporter": "python",
   "pygments_lexer": "ipython3",
   "version": "3.9.13"
  }
 },
 "nbformat": 4,
 "nbformat_minor": 5
}
